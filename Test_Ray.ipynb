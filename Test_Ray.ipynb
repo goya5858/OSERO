{
  "nbformat": 4,
  "nbformat_minor": 0,
  "metadata": {
    "colab": {
      "name": "Test_Ray.ipynb",
      "provenance": [],
      "collapsed_sections": [
        "38c2RBoa3nwa",
        "KFEhOS5K8iDN",
        "5G71ppQb8vUR",
        "lBL50muNJjPO",
        "an7QOZ88JscF",
        "f3rWbMjVKQ0X",
        "oUiE5RQ8O2cA"
      ],
      "authorship_tag": "ABX9TyP+bLu4eUl7AxXwMvbK8oE6",
      "include_colab_link": true
    },
    "kernelspec": {
      "name": "python3",
      "display_name": "Python 3"
    },
    "language_info": {
      "name": "python"
    },
    "widgets": {
      "application/vnd.jupyter.widget-state+json": {
        "368637777b004dfba19b446ef9e3ce9f": {
          "model_module": "@jupyter-widgets/controls",
          "model_name": "HBoxModel",
          "state": {
            "_view_name": "HBoxView",
            "_dom_classes": [],
            "_model_name": "HBoxModel",
            "_view_module": "@jupyter-widgets/controls",
            "_model_module_version": "1.5.0",
            "_view_count": null,
            "_view_module_version": "1.5.0",
            "box_style": "",
            "layout": "IPY_MODEL_00ae4fa5316c46309b6a5c5aa699edca",
            "_model_module": "@jupyter-widgets/controls",
            "children": [
              "IPY_MODEL_8d1daa50a05e4544afb0fafa09653f6e",
              "IPY_MODEL_d62264648c864f0b95c8ac3429c3a07e"
            ]
          }
        },
        "00ae4fa5316c46309b6a5c5aa699edca": {
          "model_module": "@jupyter-widgets/base",
          "model_name": "LayoutModel",
          "state": {
            "_view_name": "LayoutView",
            "grid_template_rows": null,
            "right": null,
            "justify_content": null,
            "_view_module": "@jupyter-widgets/base",
            "overflow": null,
            "_model_module_version": "1.2.0",
            "_view_count": null,
            "flex_flow": null,
            "width": null,
            "min_width": null,
            "border": null,
            "align_items": null,
            "bottom": null,
            "_model_module": "@jupyter-widgets/base",
            "top": null,
            "grid_column": null,
            "overflow_y": null,
            "overflow_x": null,
            "grid_auto_flow": null,
            "grid_area": null,
            "grid_template_columns": null,
            "flex": null,
            "_model_name": "LayoutModel",
            "justify_items": null,
            "grid_row": null,
            "max_height": null,
            "align_content": null,
            "visibility": null,
            "align_self": null,
            "height": null,
            "min_height": null,
            "padding": null,
            "grid_auto_rows": null,
            "grid_gap": null,
            "max_width": null,
            "order": null,
            "_view_module_version": "1.2.0",
            "grid_template_areas": null,
            "object_position": null,
            "object_fit": null,
            "grid_auto_columns": null,
            "margin": null,
            "display": null,
            "left": null
          }
        },
        "8d1daa50a05e4544afb0fafa09653f6e": {
          "model_module": "@jupyter-widgets/controls",
          "model_name": "FloatProgressModel",
          "state": {
            "_view_name": "ProgressView",
            "style": "IPY_MODEL_e1d0a565801f48b8aafa0d882531979b",
            "_dom_classes": [],
            "description": "100%",
            "_model_name": "FloatProgressModel",
            "bar_style": "success",
            "max": 100,
            "_view_module": "@jupyter-widgets/controls",
            "_model_module_version": "1.5.0",
            "value": 100,
            "_view_count": null,
            "_view_module_version": "1.5.0",
            "orientation": "horizontal",
            "min": 0,
            "description_tooltip": null,
            "_model_module": "@jupyter-widgets/controls",
            "layout": "IPY_MODEL_11ccd5b0c70a4a96b6a927b8091d330c"
          }
        },
        "d62264648c864f0b95c8ac3429c3a07e": {
          "model_module": "@jupyter-widgets/controls",
          "model_name": "HTMLModel",
          "state": {
            "_view_name": "HTMLView",
            "style": "IPY_MODEL_0065991ecce546329f677b7a4fad9f9f",
            "_dom_classes": [],
            "description": "",
            "_model_name": "HTMLModel",
            "placeholder": "​",
            "_view_module": "@jupyter-widgets/controls",
            "_model_module_version": "1.5.0",
            "value": " 100/100 [00:05&lt;00:00, 17.61it/s]",
            "_view_count": null,
            "_view_module_version": "1.5.0",
            "description_tooltip": null,
            "_model_module": "@jupyter-widgets/controls",
            "layout": "IPY_MODEL_3bc77e6d46a54417b24fcc768f0d3a07"
          }
        },
        "e1d0a565801f48b8aafa0d882531979b": {
          "model_module": "@jupyter-widgets/controls",
          "model_name": "ProgressStyleModel",
          "state": {
            "_view_name": "StyleView",
            "_model_name": "ProgressStyleModel",
            "description_width": "initial",
            "_view_module": "@jupyter-widgets/base",
            "_model_module_version": "1.5.0",
            "_view_count": null,
            "_view_module_version": "1.2.0",
            "bar_color": null,
            "_model_module": "@jupyter-widgets/controls"
          }
        },
        "11ccd5b0c70a4a96b6a927b8091d330c": {
          "model_module": "@jupyter-widgets/base",
          "model_name": "LayoutModel",
          "state": {
            "_view_name": "LayoutView",
            "grid_template_rows": null,
            "right": null,
            "justify_content": null,
            "_view_module": "@jupyter-widgets/base",
            "overflow": null,
            "_model_module_version": "1.2.0",
            "_view_count": null,
            "flex_flow": null,
            "width": null,
            "min_width": null,
            "border": null,
            "align_items": null,
            "bottom": null,
            "_model_module": "@jupyter-widgets/base",
            "top": null,
            "grid_column": null,
            "overflow_y": null,
            "overflow_x": null,
            "grid_auto_flow": null,
            "grid_area": null,
            "grid_template_columns": null,
            "flex": null,
            "_model_name": "LayoutModel",
            "justify_items": null,
            "grid_row": null,
            "max_height": null,
            "align_content": null,
            "visibility": null,
            "align_self": null,
            "height": null,
            "min_height": null,
            "padding": null,
            "grid_auto_rows": null,
            "grid_gap": null,
            "max_width": null,
            "order": null,
            "_view_module_version": "1.2.0",
            "grid_template_areas": null,
            "object_position": null,
            "object_fit": null,
            "grid_auto_columns": null,
            "margin": null,
            "display": null,
            "left": null
          }
        },
        "0065991ecce546329f677b7a4fad9f9f": {
          "model_module": "@jupyter-widgets/controls",
          "model_name": "DescriptionStyleModel",
          "state": {
            "_view_name": "StyleView",
            "_model_name": "DescriptionStyleModel",
            "description_width": "",
            "_view_module": "@jupyter-widgets/base",
            "_model_module_version": "1.5.0",
            "_view_count": null,
            "_view_module_version": "1.2.0",
            "_model_module": "@jupyter-widgets/controls"
          }
        },
        "3bc77e6d46a54417b24fcc768f0d3a07": {
          "model_module": "@jupyter-widgets/base",
          "model_name": "LayoutModel",
          "state": {
            "_view_name": "LayoutView",
            "grid_template_rows": null,
            "right": null,
            "justify_content": null,
            "_view_module": "@jupyter-widgets/base",
            "overflow": null,
            "_model_module_version": "1.2.0",
            "_view_count": null,
            "flex_flow": null,
            "width": null,
            "min_width": null,
            "border": null,
            "align_items": null,
            "bottom": null,
            "_model_module": "@jupyter-widgets/base",
            "top": null,
            "grid_column": null,
            "overflow_y": null,
            "overflow_x": null,
            "grid_auto_flow": null,
            "grid_area": null,
            "grid_template_columns": null,
            "flex": null,
            "_model_name": "LayoutModel",
            "justify_items": null,
            "grid_row": null,
            "max_height": null,
            "align_content": null,
            "visibility": null,
            "align_self": null,
            "height": null,
            "min_height": null,
            "padding": null,
            "grid_auto_rows": null,
            "grid_gap": null,
            "max_width": null,
            "order": null,
            "_view_module_version": "1.2.0",
            "grid_template_areas": null,
            "object_position": null,
            "object_fit": null,
            "grid_auto_columns": null,
            "margin": null,
            "display": null,
            "left": null
          }
        }
      }
    }
  },
  "cells": [
    {
      "cell_type": "markdown",
      "metadata": {
        "id": "view-in-github",
        "colab_type": "text"
      },
      "source": [
        "<a href=\"https://colab.research.google.com/github/goya5858/OSERO/blob/main/Test_Ray.ipynb\" target=\"_parent\"><img src=\"https://colab.research.google.com/assets/colab-badge.svg\" alt=\"Open In Colab\"/></a>"
      ]
    },
    {
      "cell_type": "code",
      "metadata": {
        "id": "FpuAA1ofEekQ",
        "colab": {
          "base_uri": "https://localhost:8080/"
        },
        "outputId": "79f438db-3488-4ad6-9a50-7d14e641967b"
      },
      "source": [
        "!pip install -q -q -q -U 'ray[default]' "
      ],
      "execution_count": 1,
      "outputs": [
        {
          "output_type": "stream",
          "text": [
            "\u001b[K     |████████████████████████████████| 49.4MB 80kB/s \n",
            "\u001b[K     |████████████████████████████████| 133kB 44.6MB/s \n",
            "\u001b[K     |████████████████████████████████| 10.1MB 35.6MB/s \n",
            "\u001b[K     |████████████████████████████████| 3.1MB 30.8MB/s \n",
            "\u001b[K     |████████████████████████████████| 81kB 7.8MB/s \n",
            "\u001b[K     |████████████████████████████████| 71kB 8.3MB/s \n",
            "\u001b[K     |████████████████████████████████| 1.3MB 34.4MB/s \n",
            "\u001b[K     |████████████████████████████████| 1.0MB 26.6MB/s \n",
            "\u001b[K     |████████████████████████████████| 81kB 9.1MB/s \n",
            "\u001b[K     |████████████████████████████████| 204kB 43.7MB/s \n",
            "\u001b[K     |████████████████████████████████| 92kB 9.6MB/s \n",
            "\u001b[K     |████████████████████████████████| 296kB 47.5MB/s \n",
            "\u001b[K     |████████████████████████████████| 143kB 56.2MB/s \n",
            "\u001b[?25h  Building wheel for gpustat (setup.py) ... \u001b[?25l\u001b[?25hdone\n"
          ],
          "name": "stdout"
        }
      ]
    },
    {
      "cell_type": "markdown",
      "metadata": {
        "id": "38c2RBoa3nwa"
      },
      "source": [
        "# 関数を並列実行"
      ]
    },
    {
      "cell_type": "code",
      "metadata": {
        "colab": {
          "base_uri": "https://localhost:8080/"
        },
        "id": "s-htYjBT1vte",
        "outputId": "b4599cd5-9268-4837-b331-84a13be05c51"
      },
      "source": [
        "import time\n",
        "\n",
        "def worker_func(pid):\n",
        "    time.sleep(5)\n",
        "    return f\"pid {pid} finished\"\n",
        "\n",
        "start = time.time()\n",
        "results = [worker_func(i) for i in range(3)]\n",
        "print(results)\n",
        "print('Elapsed:', time.time()-start)"
      ],
      "execution_count": null,
      "outputs": [
        {
          "output_type": "stream",
          "text": [
            "['pid 0 finished', 'pid 1 finished', 'pid 2 finished']\n",
            "Elapsed: 15.014969825744629\n"
          ],
          "name": "stdout"
        }
      ]
    },
    {
      "cell_type": "markdown",
      "metadata": {
        "id": "KFEhOS5K8iDN"
      },
      "source": [
        "# 分散同期処理\n",
        "関数を並列で実行し、全ての処理が終わったのちに結果をまとめて出力する"
      ]
    },
    {
      "cell_type": "code",
      "metadata": {
        "colab": {
          "base_uri": "https://localhost:8080/"
        },
        "id": "eDvhhhQe2jC8",
        "outputId": "6e6e2c8d-7d6c-4146-8b4b-95621c8b4bbc"
      },
      "source": [
        "import ray\n",
        "import time\n",
        "\n",
        "@ray.remote\n",
        "def worker_func(pid):\n",
        "    time.sleep(5)\n",
        "    return f\"pid {pid} finished\"\n",
        "\n",
        "ray.init(ignore_reinit_error=True)\n",
        "start = time.time()\n",
        "results = [worker_func.remote(i) for i in range(3)]\n",
        "#time.sleep(15)\n",
        "print(results)\n",
        "print(\"途中：\", time.time() - start)\n",
        "print( ray.get(results) )\n",
        "print('Elapsed:', time.time()-start)\n",
        "\n",
        "# ray.get()により \"同期処理\" を実行することができる\n",
        "# remote自体を保管した result 自体をprintしても保管されたオブジェクトのみが返される\n",
        "# ray.get()を使うことでそれぞれのremoteの出力を入手できる\n",
        "# なお、ray.get()を使わなくても処理自体は進行しているらしい"
      ],
      "execution_count": null,
      "outputs": [
        {
          "output_type": "stream",
          "text": [
            "2021-06-12 16:26:57,227\tINFO services.py:1274 -- View the Ray dashboard at \u001b[1m\u001b[32mhttp://127.0.0.1:8265\u001b[39m\u001b[22m\n"
          ],
          "name": "stderr"
        },
        {
          "output_type": "stream",
          "text": [
            "[ObjectRef(a67dc375e60ddd1affffffffffffffffffffffff0100000001000000), ObjectRef(63964fa4841d4a2effffffffffffffffffffffff0100000001000000), ObjectRef(69a6825d641b4613ffffffffffffffffffffffff0100000001000000)]\n",
            "途中： 0.05024313926696777\n",
            "['pid 0 finished', 'pid 1 finished', 'pid 2 finished']\n",
            "Elapsed: 10.103117942810059\n"
          ],
          "name": "stdout"
        }
      ]
    },
    {
      "cell_type": "markdown",
      "metadata": {
        "id": "5G71ppQb8vUR"
      },
      "source": [
        "# 非同期分散処理\n",
        "関数を並列で実行し、処理が終わった順に結果を出力していく"
      ]
    },
    {
      "cell_type": "code",
      "metadata": {
        "colab": {
          "base_uri": "https://localhost:8080/"
        },
        "id": "iyKUufpr5mHt",
        "outputId": "670664ef-f229-4363-9f4a-26d81ddc34f3"
      },
      "source": [
        "import ray\n",
        "import time\n",
        "import random\n",
        "\n",
        "@ray.remote\n",
        "def worker_func(pid):\n",
        "    time.sleep(random.randint(3,15))\n",
        "    return f\"pid {pid} finished\"\n",
        "\n",
        "ray.init(ignore_reinit_error=True)\n",
        "start = time.time()\n",
        "work_in_progresses = [worker_func.remote(i) for i in range(10)]\n",
        "\n",
        "for i in range(10):\n",
        "    finished, work_in_progresses = ray.wait(work_in_progresses, num_returns=1)\n",
        "    print(finished)\n",
        "    orf = finished\n",
        "\n",
        "    print(ray.get(orf))\n",
        "    print(ray.get(orf[0]))\n",
        "    print(\"Elapsed:\", time.time()-start, \"\\n\")\n",
        "\n",
        "# ray.waint()で \"非同期処理\" ができる\n",
        "# ObjectRef, work_in_progresses = ray.wait(work_in_progresses)\n",
        "# で 今回終わった処理の結果を内包した\"ObjectRef\" と 残りの実行中の処理:work_in_progresses を入手できる\n",
        "# あとは同期処理と同様に、ray.get(ObjectRef)で実際の返り値を入手できる\n",
        "# なお、返り値が複数ある場合もあるので、orf[0]のように中身を取り出す"
      ],
      "execution_count": null,
      "outputs": [
        {
          "output_type": "stream",
          "text": [
            "2021-06-12 16:27:13,545\tINFO worker.py:737 -- Calling ray.init() again after it has already been called.\n"
          ],
          "name": "stderr"
        },
        {
          "output_type": "stream",
          "text": [
            "[ObjectRef(ee4e90da584ab0ebffffffffffffffffffffffff0100000001000000)]\n",
            "['pid 0 finished']\n",
            "pid 0 finished\n",
            "Elapsed: 3.0156149864196777 \n",
            "\n",
            "[ObjectRef(4ee449587774c1f0ffffffffffffffffffffffff0100000001000000)]\n",
            "['pid 1 finished']\n",
            "pid 1 finished\n",
            "Elapsed: 4.016332149505615 \n",
            "\n",
            "[ObjectRef(480a853c2c4c6f27ffffffffffffffffffffffff0100000001000000)]\n",
            "['pid 3 finished']\n",
            "pid 3 finished\n",
            "Elapsed: 15.028555870056152 \n",
            "\n",
            "[ObjectRef(32cccd03c567a254ffffffffffffffffffffffff0100000001000000)]\n",
            "['pid 2 finished']\n",
            "pid 2 finished\n",
            "Elapsed: 16.02357506752014 \n",
            "\n",
            "[ObjectRef(623b26bdd75b28e9ffffffffffffffffffffffff0100000001000000)]\n",
            "['pid 4 finished']\n",
            "pid 4 finished\n",
            "Elapsed: 18.035106420516968 \n",
            "\n",
            "[ObjectRef(1e9d04d3b7e4dfb2ffffffffffffffffffffffff0100000001000000)]\n",
            "['pid 5 finished']\n",
            "pid 5 finished\n",
            "Elapsed: 30.038304567337036 \n",
            "\n",
            "[ObjectRef(609d7f556b6757adffffffffffffffffffffffff0100000001000000)]\n",
            "['pid 6 finished']\n",
            "pid 6 finished\n",
            "Elapsed: 33.05211091041565 \n",
            "\n",
            "[ObjectRef(402ddcfdf56ca87affffffffffffffffffffffff0100000001000000)]\n",
            "['pid 8 finished']\n",
            "pid 8 finished\n",
            "Elapsed: 38.060848236083984 \n",
            "\n",
            "[ObjectRef(c6953afc4a9f69e9ffffffffffffffffffffffff0100000001000000)]\n",
            "['pid 7 finished']\n",
            "pid 7 finished\n",
            "Elapsed: 43.05276393890381 \n",
            "\n",
            "[ObjectRef(753565f917242c11ffffffffffffffffffffffff0100000001000000)]\n",
            "['pid 9 finished']\n",
            "pid 9 finished\n",
            "Elapsed: 47.07092094421387 \n",
            "\n"
          ],
          "name": "stdout"
        }
      ]
    },
    {
      "cell_type": "markdown",
      "metadata": {
        "id": "lBL50muNJjPO"
      },
      "source": [
        "# クラスを利用したクラス単位でのサブプロセス化"
      ]
    },
    {
      "cell_type": "code",
      "metadata": {
        "colab": {
          "base_uri": "https://localhost:8080/"
        },
        "id": "o9Mx-Mme_AQ-",
        "outputId": "9b7d5cf3-9bb4-4050-ff17-49639581695a"
      },
      "source": [
        "import ray\n",
        "import random\n",
        "import time\n",
        "\n",
        "@ray.remote\n",
        "class Worker:\n",
        "    def __init__(self, worker_id):\n",
        "        self.worker_id = worker_id\n",
        "        self.n = 0 #オブジェクトの保存する変数\n",
        "    def add(self, n):\n",
        "        #5秒間待ってからオブジェクトの保存しているself.nに数字を足す作業を行う\n",
        "        time.sleep(self.worker_id)\n",
        "        self.n += n\n",
        "    def get_value(self):\n",
        "        return f\"Process: {self.worker_id}, value: {self.n}\"\n",
        "\n",
        "\n",
        "\n",
        "\n",
        "ray.init(ignore_reinit_error=True)\n",
        "start = time.time()\n",
        "\n",
        "workers = [ Worker.remote(i) for i in range(5) ] \n",
        "# それぞれ5秒待ってからself.nに5を足すタスクを実行させる\n",
        "for worker in workers:\n",
        "    worker.add.remote(5)\n",
        "\n",
        "for worker in workers:\n",
        "    print(ray.get( worker.get_value.remote() ))\n",
        "#workers = ray.get( workers )\n",
        "print(\"Elapsed:\", time.time()-start)\n",
        "\n",
        "# それぞれ5秒待ってからself.nに10を足すタスクの実行命令を出す\n",
        "for worker in workers:\n",
        "    worker.add.remote(10)\n",
        "\n",
        "for i, worker in enumerate(workers):\n",
        "    print(f\"start_num_{i}\")\n",
        "    print(ray.get( worker.get_value.remote() ))\n",
        "#workers = ray.get( workers )\n",
        "print(\"Elapsed:\", time.time()-start)\n",
        "\n",
        "# Classを用いることで内部情報を保存した実行を行うことができる\n",
        "# @ray.remoteで修飾されたクラスを\"Actor\"といい、各Actorにはremoteメソッドを使うことで処理の実行開始命令を行うことができる\n",
        "# remoteメソッドで行うのは処理の実行開始命令だけで、命令を出す順番はfor文等に依存する\n",
        "# ray.get( worker.get_value.remote() )では各プロセスが終了すれば返り値をくれる"
      ],
      "execution_count": null,
      "outputs": [
        {
          "output_type": "stream",
          "text": [
            "2021-06-12 16:45:52,021\tINFO worker.py:737 -- Calling ray.init() again after it has already been called.\n"
          ],
          "name": "stderr"
        },
        {
          "output_type": "stream",
          "text": [
            "Process: 0, value: 5\n",
            "Process: 1, value: 5\n",
            "Process: 2, value: 5\n",
            "Process: 3, value: 5\n",
            "Process: 4, value: 5\n",
            "Elapsed: 6.406382322311401\n",
            "start_num_0\n",
            "Process: 0, value: 15\n",
            "start_num_1\n",
            "Process: 1, value: 15\n",
            "start_num_2\n",
            "Process: 2, value: 15\n",
            "start_num_3\n",
            "Process: 3, value: 15\n",
            "start_num_4\n",
            "Process: 4, value: 15\n",
            "Elapsed: 10.412129878997803\n"
          ],
          "name": "stdout"
        }
      ]
    },
    {
      "cell_type": "markdown",
      "metadata": {
        "id": "an7QOZ88JscF"
      },
      "source": [
        "# クラスでの分散同期処理"
      ]
    },
    {
      "cell_type": "code",
      "metadata": {
        "colab": {
          "base_uri": "https://localhost:8080/"
        },
        "id": "BbTn14XkIydp",
        "outputId": "90cff821-5499-44c4-fd23-575581849e63"
      },
      "source": [
        "import ray\n",
        "import random\n",
        "import time\n",
        "\n",
        "@ray.remote\n",
        "class Worker:\n",
        "    def __init__(self, worker_id):\n",
        "        self.worker_id = worker_id\n",
        "        self.n = 0 #オブジェクトの保存する変数\n",
        "    def add(self, n):\n",
        "        #5秒間待ってからオブジェクトの保存しているself.nに数字を足す作業を行う\n",
        "        time.sleep(self.worker_id)\n",
        "        self.n += n\n",
        "    def get_value(self):\n",
        "        return f\"Process: {self.worker_id}, value: {self.n}\"\n",
        "\n",
        "\n",
        "\n",
        "\n",
        "ray.init(ignore_reinit_error=True)\n",
        "start = time.time()\n",
        "\n",
        "workers = [ Worker.remote(i) for i in range(5) ] \n",
        "# それぞれ5秒待ってからself.nに5を足すタスクを実行させる\n",
        "for worker in workers:\n",
        "    worker.add.remote(5)\n",
        "\n",
        "# それぞれ5秒待ってからself.nに10を足すタスクの実行命令を出す\n",
        "for worker in workers:\n",
        "    worker.add.remote(10)\n",
        "\n",
        "results = [ worker.get_value.remote() for worker in workers ]\n",
        "results = ray.get( results )\n",
        "print(results)\n",
        "print(\"Elapsed:\", time.time()-start)\n",
        "\n",
        "# results = [ worker.get_value.remote() for worker in workers ]\n",
        "# でObjectRefのリストを作成している\n",
        "# ray.get()ではActor自身は引数にできず、ORefを対象とする\n",
        "# results = ray.get( results )で終了を同期している"
      ],
      "execution_count": null,
      "outputs": [
        {
          "output_type": "stream",
          "text": [
            "2021-06-12 16:54:53,369\tINFO worker.py:737 -- Calling ray.init() again after it has already been called.\n",
            "2021-06-12 16:54:53,399\tWARNING worker.py:1114 -- WARNING: 22 PYTHON workers have been started on a node of the id: fa44040dc1aac70bb253d28d89d17c364687cd295990866622ef57b6 and address: 172.28.0.2. This could be a result of using a large number of actors, or it could be a consequence of using nested tasks (see https://github.com/ray-project/ray/issues/3644) for some a discussion of workarounds.\n"
          ],
          "name": "stderr"
        },
        {
          "output_type": "stream",
          "text": [
            "['Process: 0, value: 15', 'Process: 1, value: 15', 'Process: 2, value: 15', 'Process: 3, value: 15', 'Process: 4, value: 15']\n",
            "Elapsed: 10.832329750061035\n"
          ],
          "name": "stdout"
        }
      ]
    },
    {
      "cell_type": "markdown",
      "metadata": {
        "id": "f3rWbMjVKQ0X"
      },
      "source": [
        "# クラスでの分散非同期"
      ]
    },
    {
      "cell_type": "code",
      "metadata": {
        "colab": {
          "base_uri": "https://localhost:8080/"
        },
        "id": "jS7GkJRwKT0q",
        "outputId": "693db89d-3b56-4ea1-b12a-1f8074dfb4a2"
      },
      "source": [
        "import ray\n",
        "import random\n",
        "import time\n",
        "\n",
        "@ray.remote\n",
        "class Worker:\n",
        "    def __init__(self, worker_id):\n",
        "        self.worker_id = worker_id\n",
        "        self.n = 0 #オブジェクトの保存する変数\n",
        "    def add(self, n):\n",
        "        #5秒間待ってからオブジェクトの保存しているself.nに数字を足す作業を行う\n",
        "        time.sleep(random.randint(1,10))\n",
        "        self.n += n\n",
        "    def get_value(self):\n",
        "        return f\"Process: {self.worker_id}, value: {self.n}\"\n",
        "\n",
        "\n",
        "\n",
        "\n",
        "ray.init(ignore_reinit_error=True)\n",
        "start = time.time()\n",
        "\n",
        "workers = [ Worker.remote(i) for i in range(5) ] \n",
        "# それぞれ5秒待ってからself.nに5を足すタスクを実行させる\n",
        "for worker in workers:\n",
        "    worker.add.remote(5)\n",
        "\n",
        "# それぞれ5秒待ってからself.nに10を足すタスクの実行命令を出す\n",
        "for worker in workers:\n",
        "    worker.add.remote(10)\n",
        "\n",
        "work_in_progresses = [ worker.get_value.remote() for worker in workers ]\n",
        "\n",
        "for _ in range( len(work_in_progresses) ):\n",
        "    finished, work_in_progresses = ray.wait(work_in_progresses, num_returns=1)\n",
        "    orf = finished\n",
        "    print(ray.get(orf[0]))\n",
        "    print(\"Elapsed:\", time.time()-start, \"\\n\")\n",
        "\n",
        "# work_in_progresses = [ worker.get_value.remote() for worker in workers ]\n",
        "# で実行中のObjectRefのリストを作成している\n",
        "# あとは実行中の処理が終わるたびに結果と残りの処理を受け取っていく"
      ],
      "execution_count": null,
      "outputs": [
        {
          "output_type": "stream",
          "text": [
            "2021-06-12 17:03:17,712\tINFO worker.py:737 -- Calling ray.init() again after it has already been called.\n"
          ],
          "name": "stderr"
        },
        {
          "output_type": "stream",
          "text": [
            "Process: 1, value: 15\n",
            "Elapsed: 7.995789289474487 \n",
            "\n",
            "Process: 3, value: 15\n",
            "Elapsed: 9.906349420547485 \n",
            "\n",
            "Process: 0, value: 15\n",
            "Elapsed: 9.934542655944824 \n",
            "\n",
            "Process: 4, value: 15\n",
            "Elapsed: 11.634456396102905 \n",
            "\n",
            "Process: 2, value: 15\n",
            "Elapsed: 20.9136381149292 \n",
            "\n"
          ],
          "name": "stdout"
        }
      ]
    },
    {
      "cell_type": "markdown",
      "metadata": {
        "id": "-_5NjGLoKvds"
      },
      "source": [
        "# Pytorchでの同期分散処理"
      ]
    },
    {
      "cell_type": "code",
      "metadata": {
        "id": "6ZZgnhQv7FJD"
      },
      "source": [
        "import torch\n",
        "import torch.nn as nn\n",
        "from torch.optim import Adam\n",
        "import numpy as np\n",
        "import torch.nn.functional as F\n",
        "\n",
        "import ray\n",
        "import random\n",
        "import time\n",
        "\n",
        "import matplotlib.pyplot as plt\n",
        "from tqdm.notebook import tqdm\n",
        "\n",
        "class Net(nn.Module):\n",
        "    \"\"\"Small ConvNet for MNIST.\"\"\"\n",
        "\n",
        "    def __init__(self):\n",
        "        super().__init__()\n",
        "        self.fc1 = nn.Linear(2,4)\n",
        "        self.act1 = nn.ReLU()\n",
        "        self.fc3 = nn.Linear(4, 1)\n",
        "\n",
        "        self.metrics = nn.MSELoss()  \n",
        "    def forward(self, x):\n",
        "        x = self.fc1(x)\n",
        "        x = self.act1(x)\n",
        "        x = self.fc3(x)\n",
        "        return x\n",
        "\n",
        "    def get_weights(self):\n",
        "        return {k: v.cpu() for k, v in self.state_dict().items()}\n",
        "\n",
        "    def set_weights(self, weights):\n",
        "        self.load_state_dict(weights)\n",
        "\n",
        "    def get_gradients(self):\n",
        "        grads = []\n",
        "        for p in self.parameters():\n",
        "            grad = None if p.grad is None else p.grad.data.cpu().numpy()\n",
        "            grads.append(grad)\n",
        "        return grads\n",
        "\n",
        "    def set_gradients(self, gradients):\n",
        "        for g, p in zip(gradients, self.parameters()):\n",
        "            if g is not None:\n",
        "                p.grad = torch.from_numpy(g)"
      ],
      "execution_count": 17,
      "outputs": []
    },
    {
      "cell_type": "code",
      "metadata": {
        "id": "RCBZEFywBsU7"
      },
      "source": [
        "def get_Data():\n",
        "    Data = []\n",
        "    for i in range(1024):\n",
        "        a = random.randint(1,30)\n",
        "        b = random.randint(1,30)\n",
        "        c = 3*a+b\n",
        "        Data.append([a,b,c])\n",
        "\n",
        "    Data = torch.tensor(Data, dtype=torch.float)\n",
        "    return Data[:,:2], Data[:,2].reshape(-1,1)"
      ],
      "execution_count": 18,
      "outputs": []
    },
    {
      "cell_type": "code",
      "metadata": {
        "id": "chGHLIdPFo4U"
      },
      "source": [
        "#@ray.remote\n",
        "class ParameterServer(object):\n",
        "    def __init__(self, lr):\n",
        "        self.model = Net()\n",
        "        self.optimizer = torch.optim.SGD(self.model.parameters(), lr=lr)\n",
        "\n",
        "    def apply_gradients(self, *gradients):\n",
        "        summed_gradients = [\n",
        "            np.stack(gradient_zip).mean(axis=0) for gradient_zip in zip(*gradients)\n",
        "        ]\n",
        "        self.optimizer.zero_grad()\n",
        "        self.model.set_gradients(summed_gradients)\n",
        "        self.optimizer.step()\n",
        "        return self.model.get_weights()\n",
        "\n",
        "    def get_weights(self):\n",
        "        return self.model.get_weights()"
      ],
      "execution_count": 23,
      "outputs": []
    },
    {
      "cell_type": "code",
      "metadata": {
        "id": "R_y2Alan7Jna"
      },
      "source": [
        "@ray.remote\n",
        "class DataWorker(object):\n",
        "    def __init__(self):\n",
        "        self.model = Net()\n",
        "\n",
        "    def compute_gradients(self, weights, data):\n",
        "        self.model.set_weights(weights)\n",
        "        X, y = data[0], data[1]\n",
        "        self.model.zero_grad()\n",
        "        pred = self.model(X)\n",
        "        loss = F.mse_loss(pred, y)\n",
        "        loss.backward()\n",
        "        return self.model.get_gradients()"
      ],
      "execution_count": 19,
      "outputs": []
    },
    {
      "cell_type": "code",
      "metadata": {
        "colab": {
          "base_uri": "https://localhost:8080/"
        },
        "id": "bg_zYmOO7Lx7",
        "outputId": "0810762a-95c3-4d44-e065-2ae3eb8a6eb8"
      },
      "source": [
        "import random\n",
        "iterations = 100\n",
        "num_workers = 8\n",
        "\n",
        "ray.init(ignore_reinit_error=True)\n",
        "#ps = ParameterServer.remote(lr=5e-2)\n",
        "ps = ParameterServer(lr=5e-2)\n",
        "workers = [DataWorker.remote() for i in range(num_workers)]\n",
        "Datas  = [ get_Data() for _ in range(num_workers)]\n",
        "\n",
        "print(\"Running synchronous parameter server training.\")\n",
        "model = Net()\n",
        "#current_weights = ps.get_weights.remote()\n",
        "current_weights = ps.get_weights()\n",
        "for i in range(iterations):\n",
        "    gradients = [\n",
        "        worker.compute_gradients.remote(current_weights, data) for worker, data in zip(workers, Datas)\n",
        "    ]\n",
        "    # Calculate update after all gradients are available.\n",
        "    #current_weights = ps.apply_gradients.remote(*gradients)\n",
        "    gradients = ray.get(gradients)\n",
        "    current_weights = ps.apply_gradients(*gradients)\n",
        "\n",
        "    if i % 10 == 0:\n",
        "        # Evaluate the current model.\n",
        "        X_test, y_test = Datas[0]\n",
        "        #model.set_weights(ray.get(current_weights))\n",
        "        model.set_weights(current_weights)\n",
        "        pred = model(X_test)\n",
        "        loss = F.mse_loss(pred, y_test)\n",
        "        print(\"Iter {}: \\tloss is {:.1f}\".format(i, loss))\n",
        "\n",
        "ray.shutdown()"
      ],
      "execution_count": 26,
      "outputs": [
        {
          "output_type": "stream",
          "text": [
            "2021-06-13 06:57:23,450\tINFO worker.py:737 -- Calling ray.init() again after it has already been called.\n"
          ],
          "name": "stderr"
        },
        {
          "output_type": "stream",
          "text": [
            "Running synchronous parameter server training.\n",
            "Iter 0: \tloss is 5653.0\n",
            "Iter 10: \tloss is 1246.0\n",
            "Iter 20: \tloss is 799.5\n",
            "Iter 30: \tloss is 759.1\n",
            "Iter 40: \tloss is 759.0\n",
            "Iter 50: \tloss is 760.7\n",
            "Iter 60: \tloss is 761.5\n",
            "Iter 70: \tloss is 761.8\n",
            "Iter 80: \tloss is 761.9\n",
            "Iter 90: \tloss is 762.0\n"
          ],
          "name": "stdout"
        }
      ]
    },
    {
      "cell_type": "markdown",
      "metadata": {
        "id": "oUiE5RQ8O2cA"
      },
      "source": [
        "# Torch ミス　うまく動かない"
      ]
    },
    {
      "cell_type": "code",
      "metadata": {
        "id": "nLXfTqxFk3jq"
      },
      "source": [
        "import torch\n",
        "import torch.nn as nn\n",
        "from torch.optim import Adam\n",
        "import numpy as np\n",
        "\n",
        "import ray\n",
        "import random\n",
        "import time\n",
        "\n",
        "import matplotlib.pyplot as plt\n",
        "from tqdm.notebook import tqdm\n",
        "\n",
        "def get_Data():\n",
        "    Data = []\n",
        "    for i in range(1024):\n",
        "        a = random.randint(1,30)\n",
        "        b = random.randint(1,30)\n",
        "        c = 3*a+b\n",
        "        Data.append([a,b,c])\n",
        "\n",
        "    Data = torch.tensor(Data, dtype=torch.float)\n",
        "    return Data[:,:2], Data[:,2].reshape(-1,1)\n",
        "\n",
        "class SharedBrain(nn.Module):\n",
        "    def __init__(self):\n",
        "        super().__init__()\n",
        "        self.fc1 = nn.Linear(2,4)\n",
        "        self.act1 = nn.ReLU()\n",
        "        self.fc3 = nn.Linear(4, 1)\n",
        "\n",
        "        self.metrics = nn.MSELoss()  \n",
        "    def forward(self, x):\n",
        "        x = self.fc1(x)\n",
        "        x = self.act1(x)\n",
        "        x = self.fc3(x)\n",
        "        return x"
      ],
      "execution_count": 2,
      "outputs": []
    },
    {
      "cell_type": "code",
      "metadata": {
        "colab": {
          "base_uri": "https://localhost:8080/",
          "height": 88
        },
        "id": "qkAji7jF1RmB",
        "outputId": "1496ba94-ba46-4e8b-f8d2-23852dc9913c"
      },
      "source": [
        "X, y = get_Data()\n",
        "\n",
        "model = SharedBrain()\n",
        "optim = Adam(params=model.parameters(), lr=0.1)\n",
        "LOSS = []\n",
        "\n",
        "for _ in range(100):\n",
        "    optim.zero_grad()\n",
        "    pred = model(X)\n",
        "    loss = nn.MSELoss()(pred, y)\n",
        "    loss.backward()\n",
        "    optim.step()\n",
        "    LOSS.append(loss.detach().numpy())\n",
        "\n",
        "print(\"last loss :\", loss.detach().numpy())\n",
        "plt.plot( range(len(LOSS)), LOSS )\n",
        "plt.title('Loss')"
      ],
      "execution_count": 3,
      "outputs": [
        {
          "output_type": "stream",
          "text": [
            "last loss : 1.614059\n"
          ],
          "name": "stdout"
        },
        {
          "output_type": "execute_result",
          "data": {
            "text/plain": [
              "Text(0.5, 1.0, 'Loss')"
            ]
          },
          "metadata": {
            "tags": []
          },
          "execution_count": 3
        },
        {
          "output_type": "display_data",
          "data": {
            "image/png": "[encoded data removed]",
            "text/plain": [
              "<Figure size 432x288 with 1 Axes>"
            ]
          },
          "metadata": {
            "tags": [],
            "needs_background": "light"
          }
        }
      ]
    },
    {
      "cell_type": "code",
      "metadata": {
        "colab": {
          "base_uri": "https://localhost:8080/",
          "height": 105
        },
        "id": "WWWlBi9VO22g",
        "outputId": "b75c9a73-3d3f-4c82-d276-bcac6796c0f6"
      },
      "source": [
        "num_processes = 8\n",
        "\n",
        "class TestModel:\n",
        "    def __init__(self):\n",
        "        pass \n",
        "    def get_loss(self, x, y, network, metrics):\n",
        "        pred = network(x)\n",
        "        loss = metrics(pred, y)\n",
        "        return loss\n",
        "\n",
        "shared_brain = SharedBrain()\n",
        "optim = Adam(params=shared_brain.parameters(), lr=0.1)\n",
        "\n",
        "start = time.time()\n",
        "models = [ TestModel() for _ in range(num_processes) ]\n",
        "Datas  = [ get_Data() for _ in range(num_processes)]\n",
        "\n",
        "metrics = nn.MSELoss()\n",
        "LOSS = []\n",
        "for _ in range(200):\n",
        "    optim.zero_grad()\n",
        "    losses = [ models[i].get_loss( Datas[i][0], Datas[i][1], shared_brain, nn.MSELoss() ) for i in range(num_processes)]\n",
        "    loss = sum( losses )/len(losses)\n",
        "    loss.backward()\n",
        "    optim.step()\n",
        "    LOSS.append(loss.detach().numpy())\n",
        "\n",
        "print(\"Elapsed:\", time.time()-start)\n",
        "print(\"last loss :\", loss.detach().numpy())\n",
        "plt.plot( range(len(LOSS)), LOSS )\n",
        "plt.title('Loss')"
      ],
      "execution_count": 4,
      "outputs": [
        {
          "output_type": "stream",
          "text": [
            "Elapsed: 0.5948522090911865\n",
            "last loss : 0.4953204\n"
          ],
          "name": "stdout"
        },
        {
          "output_type": "execute_result",
          "data": {
            "text/plain": [
              "Text(0.5, 1.0, 'Loss')"
            ]
          },
          "metadata": {
            "tags": []
          },
          "execution_count": 4
        },
        {
          "output_type": "display_data",
          "data": {
            "image/png": "[encoded data removed]",
            "text/plain": [
              "<Figure size 432x288 with 1 Axes>"
            ]
          },
          "metadata": {
            "tags": [],
            "needs_background": "light"
          }
        }
      ]
    },
    {
      "cell_type": "code",
      "metadata": {
        "colab": {
          "base_uri": "https://localhost:8080/",
          "height": 227,
          "referenced_widgets": [
            "368637777b004dfba19b446ef9e3ce9f",
            "00ae4fa5316c46309b6a5c5aa699edca",
            "8d1daa50a05e4544afb0fafa09653f6e",
            "d62264648c864f0b95c8ac3429c3a07e",
            "e1d0a565801f48b8aafa0d882531979b",
            "11ccd5b0c70a4a96b6a927b8091d330c",
            "0065991ecce546329f677b7a4fad9f9f",
            "3bc77e6d46a54417b24fcc768f0d3a07"
          ]
        },
        "id": "DFRZLTQcRd2N",
        "outputId": "6af8e7be-a70e-4e24-a8d3-651f14424f3d"
      },
      "source": [
        "num_processes = 2\n",
        "\n",
        "class SharedBrain(nn.Module):\n",
        "    def __init__(self):\n",
        "        super().__init__()\n",
        "        self.fc1 = nn.Linear(2,4)\n",
        "        self.act1 = nn.ReLU()\n",
        "        self.fc3 = nn.Linear(4, 1)\n",
        "    \n",
        "        self.metrics = nn.MSELoss() \n",
        "    def forward(self, x):\n",
        "        x = self.fc1(x)\n",
        "        x = self.act1(x)\n",
        "        x = self.fc3(x)\n",
        "        return x\n",
        "\n",
        "@ray.remote\n",
        "class MasterModel:\n",
        "    def __init__(self):\n",
        "        self.Brain = SharedBrain()\n",
        "        self.optim = Adam(params=self.Brain.parameters(), lr=1)\n",
        "    def get_net(self):\n",
        "        return self.Brain\n",
        "    def step(self):\n",
        "        self.optim.step()\n",
        "        self.optim.zero_grad()\n",
        "\n",
        "@ray.remote\n",
        "class TestModel:\n",
        "    def __init__(self):\n",
        "        pass \n",
        "    def get_loss(self, x, y, network, metrics):\n",
        "        pred = network(x)\n",
        "        loss = metrics(pred, y)\n",
        "        return loss\n",
        "\n",
        "ray.init(ignore_reinit_error=True)\n",
        "Mastermodel = MasterModel.remote()\n",
        "\n",
        "start = time.time()\n",
        "models = [ TestModel.remote() for _ in range(num_processes) ]\n",
        "Datas  = [ get_Data() for _ in range(num_processes)]\n",
        "\n",
        "metrics = nn.MSELoss()\n",
        "LOSS = []\n",
        "for _ in tqdm(range(100)):\n",
        "    optim.zero_grad()\n",
        "    losses = [ models[i].get_loss.remote( Datas[i][0], Datas[i][1], Mastermodel.get_net.remote(), metrics ) for i in range(num_processes)]\n",
        "    losses = ray.get(losses)\n",
        "    loss = sum( losses )/len(losses)\n",
        "    loss.backward()\n",
        "    Mastermodel.step.remote()\n",
        "    LOSS.append(loss.detach().numpy())\n",
        "\n",
        "print(\"Elapsed:\", time.time()-start)\n",
        "print(\"last loss :\", loss.detach().numpy())\n",
        "plt.plot( range(len(LOSS)), LOSS )\n",
        "plt.title('Loss')"
      ],
      "execution_count": 16,
      "outputs": [
        {
          "output_type": "stream",
          "text": [
            "2021-06-13 06:52:13,246\tINFO worker.py:737 -- Calling ray.init() again after it has already been called.\n"
          ],
          "name": "stderr"
        },
        {
          "output_type": "display_data",
          "data": {
            "application/vnd.jupyter.widget-view+json": {
              "model_id": "368637777b004dfba19b446ef9e3ce9f",
              "version_minor": 0,
              "version_major": 2
            },
            "text/plain": [
              "HBox(children=(FloatProgress(value=0.0), HTML(value='')))"
            ]
          },
          "metadata": {
            "tags": []
          }
        },
        {
          "output_type": "stream",
          "text": [
            "\n",
            "Elapsed: 5.79199743270874\n",
            "last loss : 4333.825\n"
          ],
          "name": "stdout"
        },
        {
          "output_type": "execute_result",
          "data": {
            "text/plain": [
              "Text(0.5, 1.0, 'Loss')"
            ]
          },
          "metadata": {
            "tags": []
          },
          "execution_count": 16
        },
        {
          "output_type": "display_data",
          "data": {
            "image/png": "[encoded data removed]",
            "text/plain": [
              "<Figure size 432x288 with 1 Axes>"
            ]
          },
          "metadata": {
            "tags": [],
            "needs_background": "light"
          }
        }
      ]
    }
  ]
}