{
  "nbformat": 4,
  "nbformat_minor": 0,
  "metadata": {
    "colab": {
      "name": "Tesr_Ray.ipynb",
      "provenance": [],
      "collapsed_sections": [],
      "authorship_tag": "ABX9TyOdvtQx8ic/LnRowcCRbpaB",
      "include_colab_link": true
    },
    "kernelspec": {
      "name": "python3",
      "display_name": "Python 3"
    },
    "language_info": {
      "name": "python"
    }
  },
  "cells": [
    {
      "cell_type": "markdown",
      "metadata": {
        "id": "view-in-github",
        "colab_type": "text"
      },
      "source": [
        "<a href=\"https://colab.research.google.com/github/goya5858/OSERO/blob/main/Test_Ray.ipynb\" target=\"_parent\"><img src=\"https://colab.research.google.com/assets/colab-badge.svg\" alt=\"Open In Colab\"/></a>"
      ]
    },
    {
      "cell_type": "code",
      "metadata": {
        "id": "FpuAA1ofEekQ"
      },
      "source": [
        "!pip install -q -q -q -U 'ray[default]' "
      ],
      "execution_count": 25,
      "outputs": []
    },
    {
      "cell_type": "markdown",
      "metadata": {
        "id": "38c2RBoa3nwa"
      },
      "source": [
        "# 関数を並列実行"
      ]
    },
    {
      "cell_type": "code",
      "metadata": {
        "colab": {
          "base_uri": "https://localhost:8080/"
        },
        "id": "s-htYjBT1vte",
        "outputId": "b4599cd5-9268-4837-b331-84a13be05c51"
      },
      "source": [
        "import time\n",
        "\n",
        "def worker_func(pid):\n",
        "    time.sleep(5)\n",
        "    return f\"pid {pid} finished\"\n",
        "\n",
        "start = time.time()\n",
        "results = [worker_func(i) for i in range(3)]\n",
        "print(results)\n",
        "print('Elapsed:', time.time()-start)"
      ],
      "execution_count": 1,
      "outputs": [
        {
          "output_type": "stream",
          "text": [
            "['pid 0 finished', 'pid 1 finished', 'pid 2 finished']\n",
            "Elapsed: 15.014969825744629\n"
          ],
          "name": "stdout"
        }
      ]
    },
    {
      "cell_type": "markdown",
      "metadata": {
        "id": "KFEhOS5K8iDN"
      },
      "source": [
        "# 分散同期処理\n",
        "関数を並列で実行し、全ての処理が終わったのちに結果をまとめて出力する"
      ]
    },
    {
      "cell_type": "code",
      "metadata": {
        "colab": {
          "base_uri": "https://localhost:8080/"
        },
        "id": "eDvhhhQe2jC8",
        "outputId": "6e6e2c8d-7d6c-4146-8b4b-95621c8b4bbc"
      },
      "source": [
        "import ray\n",
        "import time\n",
        "\n",
        "@ray.remote\n",
        "def worker_func(pid):\n",
        "    time.sleep(5)\n",
        "    return f\"pid {pid} finished\"\n",
        "\n",
        "ray.init(ignore_reinit_error=True)\n",
        "start = time.time()\n",
        "results = [worker_func.remote(i) for i in range(3)]\n",
        "#time.sleep(15)\n",
        "print(results)\n",
        "print(\"途中：\", time.time() - start)\n",
        "print( ray.get(results) )\n",
        "print('Elapsed:', time.time()-start)\n",
        "\n",
        "# ray.get()により \"同期処理\" を実行することができる\n",
        "# remote自体を保管した result 自体をprintしても保管されたオブジェクトのみが返される\n",
        "# ray.get()を使うことでそれぞれのremoteの出力を入手できる\n",
        "# なお、ray.get()を使わなくても処理自体は進行しているらしい"
      ],
      "execution_count": 5,
      "outputs": [
        {
          "output_type": "stream",
          "text": [
            "2021-06-12 16:26:57,227\tINFO services.py:1274 -- View the Ray dashboard at \u001b[1m\u001b[32mhttp://127.0.0.1:8265\u001b[39m\u001b[22m\n"
          ],
          "name": "stderr"
        },
        {
          "output_type": "stream",
          "text": [
            "[ObjectRef(a67dc375e60ddd1affffffffffffffffffffffff0100000001000000), ObjectRef(63964fa4841d4a2effffffffffffffffffffffff0100000001000000), ObjectRef(69a6825d641b4613ffffffffffffffffffffffff0100000001000000)]\n",
            "途中： 0.05024313926696777\n",
            "['pid 0 finished', 'pid 1 finished', 'pid 2 finished']\n",
            "Elapsed: 10.103117942810059\n"
          ],
          "name": "stdout"
        }
      ]
    },
    {
      "cell_type": "markdown",
      "metadata": {
        "id": "5G71ppQb8vUR"
      },
      "source": [
        "# # 非同期分散処理\n",
        "関数を並列で実行し、処理が終わった順に結果を出力していく"
      ]
    },
    {
      "cell_type": "code",
      "metadata": {
        "colab": {
          "base_uri": "https://localhost:8080/"
        },
        "id": "iyKUufpr5mHt",
        "outputId": "670664ef-f229-4363-9f4a-26d81ddc34f3"
      },
      "source": [
        "import ray\n",
        "import time\n",
        "import random\n",
        "\n",
        "@ray.remote\n",
        "def worker_func(pid):\n",
        "    time.sleep(random.randint(3,15))\n",
        "    return f\"pid {pid} finished\"\n",
        "\n",
        "ray.init(ignore_reinit_error=True)\n",
        "start = time.time()\n",
        "work_in_progresses = [worker_func.remote(i) for i in range(10)]\n",
        "\n",
        "for i in range(10):\n",
        "    finished, work_in_progresses = ray.wait(work_in_progresses, num_returns=1)\n",
        "    print(finished)\n",
        "    orf = finished\n",
        "\n",
        "    print(ray.get(orf))\n",
        "    print(ray.get(orf[0]))\n",
        "    print(\"Elapsed:\", time.time()-start, \"\\n\")\n",
        "\n",
        "# ray.waint()で \"非同期処理\" ができる\n",
        "# ObjectRef, work_in_progresses = ray.wait(work_in_progresses)\n",
        "# で 今回終わった処理の結果を内包した\"ObjectRef\" と 残りの実行中の処理:work_in_progresses を入手できる\n",
        "# あとは同期処理と同様に、ray.get(ObjectRef)で実際の返り値を入手できる\n",
        "# なお、返り値が複数ある場合もあるので、orf[0]のように中身を取り出す"
      ],
      "execution_count": 6,
      "outputs": [
        {
          "output_type": "stream",
          "text": [
            "2021-06-12 16:27:13,545\tINFO worker.py:737 -- Calling ray.init() again after it has already been called.\n"
          ],
          "name": "stderr"
        },
        {
          "output_type": "stream",
          "text": [
            "[ObjectRef(ee4e90da584ab0ebffffffffffffffffffffffff0100000001000000)]\n",
            "['pid 0 finished']\n",
            "pid 0 finished\n",
            "Elapsed: 3.0156149864196777 \n",
            "\n",
            "[ObjectRef(4ee449587774c1f0ffffffffffffffffffffffff0100000001000000)]\n",
            "['pid 1 finished']\n",
            "pid 1 finished\n",
            "Elapsed: 4.016332149505615 \n",
            "\n",
            "[ObjectRef(480a853c2c4c6f27ffffffffffffffffffffffff0100000001000000)]\n",
            "['pid 3 finished']\n",
            "pid 3 finished\n",
            "Elapsed: 15.028555870056152 \n",
            "\n",
            "[ObjectRef(32cccd03c567a254ffffffffffffffffffffffff0100000001000000)]\n",
            "['pid 2 finished']\n",
            "pid 2 finished\n",
            "Elapsed: 16.02357506752014 \n",
            "\n",
            "[ObjectRef(623b26bdd75b28e9ffffffffffffffffffffffff0100000001000000)]\n",
            "['pid 4 finished']\n",
            "pid 4 finished\n",
            "Elapsed: 18.035106420516968 \n",
            "\n",
            "[ObjectRef(1e9d04d3b7e4dfb2ffffffffffffffffffffffff0100000001000000)]\n",
            "['pid 5 finished']\n",
            "pid 5 finished\n",
            "Elapsed: 30.038304567337036 \n",
            "\n",
            "[ObjectRef(609d7f556b6757adffffffffffffffffffffffff0100000001000000)]\n",
            "['pid 6 finished']\n",
            "pid 6 finished\n",
            "Elapsed: 33.05211091041565 \n",
            "\n",
            "[ObjectRef(402ddcfdf56ca87affffffffffffffffffffffff0100000001000000)]\n",
            "['pid 8 finished']\n",
            "pid 8 finished\n",
            "Elapsed: 38.060848236083984 \n",
            "\n",
            "[ObjectRef(c6953afc4a9f69e9ffffffffffffffffffffffff0100000001000000)]\n",
            "['pid 7 finished']\n",
            "pid 7 finished\n",
            "Elapsed: 43.05276393890381 \n",
            "\n",
            "[ObjectRef(753565f917242c11ffffffffffffffffffffffff0100000001000000)]\n",
            "['pid 9 finished']\n",
            "pid 9 finished\n",
            "Elapsed: 47.07092094421387 \n",
            "\n"
          ],
          "name": "stdout"
        }
      ]
    },
    {
      "cell_type": "markdown",
      "metadata": {
        "id": "lBL50muNJjPO"
      },
      "source": [
        "# クラスを利用したクラス単位でのサブプロセス化"
      ]
    },
    {
      "cell_type": "code",
      "metadata": {
        "colab": {
          "base_uri": "https://localhost:8080/"
        },
        "id": "o9Mx-Mme_AQ-",
        "outputId": "9b7d5cf3-9bb4-4050-ff17-49639581695a"
      },
      "source": [
        "import ray\n",
        "import random\n",
        "import time\n",
        "\n",
        "@ray.remote\n",
        "class Worker:\n",
        "    def __init__(self, worker_id):\n",
        "        self.worker_id = worker_id\n",
        "        self.n = 0 #オブジェクトの保存する変数\n",
        "    def add(self, n):\n",
        "        #5秒間待ってからオブジェクトの保存しているself.nに数字を足す作業を行う\n",
        "        time.sleep(self.worker_id)\n",
        "        self.n += n\n",
        "    def get_value(self):\n",
        "        return f\"Process: {self.worker_id}, value: {self.n}\"\n",
        "\n",
        "\n",
        "\n",
        "\n",
        "ray.init(ignore_reinit_error=True)\n",
        "start = time.time()\n",
        "\n",
        "workers = [ Worker.remote(i) for i in range(5) ] \n",
        "# それぞれ5秒待ってからself.nに5を足すタスクを実行させる\n",
        "for worker in workers:\n",
        "    worker.add.remote(5)\n",
        "\n",
        "for worker in workers:\n",
        "    print(ray.get( worker.get_value.remote() ))\n",
        "#workers = ray.get( workers )\n",
        "print(\"Elapsed:\", time.time()-start)\n",
        "\n",
        "# それぞれ5秒待ってからself.nに10を足すタスクの実行命令を出す\n",
        "for worker in workers:\n",
        "    worker.add.remote(10)\n",
        "\n",
        "for i, worker in enumerate(workers):\n",
        "    print(f\"start_num_{i}\")\n",
        "    print(ray.get( worker.get_value.remote() ))\n",
        "#workers = ray.get( workers )\n",
        "print(\"Elapsed:\", time.time()-start)\n",
        "\n",
        "# Classを用いることで内部情報を保存した実行を行うことができる\n",
        "# @ray.remoteで修飾されたクラスを\"Actor\"といい、各Actorにはremoteメソッドを使うことで処理の実行開始命令を行うことができる\n",
        "# remoteメソッドで行うのは処理の実行開始命令だけで、命令を出す順番はfor文等に依存する\n",
        "# ray.get( worker.get_value.remote() )では各プロセスが終了すれば返り値をくれる"
      ],
      "execution_count": 16,
      "outputs": [
        {
          "output_type": "stream",
          "text": [
            "2021-06-12 16:45:52,021\tINFO worker.py:737 -- Calling ray.init() again after it has already been called.\n"
          ],
          "name": "stderr"
        },
        {
          "output_type": "stream",
          "text": [
            "Process: 0, value: 5\n",
            "Process: 1, value: 5\n",
            "Process: 2, value: 5\n",
            "Process: 3, value: 5\n",
            "Process: 4, value: 5\n",
            "Elapsed: 6.406382322311401\n",
            "start_num_0\n",
            "Process: 0, value: 15\n",
            "start_num_1\n",
            "Process: 1, value: 15\n",
            "start_num_2\n",
            "Process: 2, value: 15\n",
            "start_num_3\n",
            "Process: 3, value: 15\n",
            "start_num_4\n",
            "Process: 4, value: 15\n",
            "Elapsed: 10.412129878997803\n"
          ],
          "name": "stdout"
        }
      ]
    },
    {
      "cell_type": "markdown",
      "metadata": {
        "id": "an7QOZ88JscF"
      },
      "source": [
        "# クラスでの分散同期処理"
      ]
    },
    {
      "cell_type": "code",
      "metadata": {
        "colab": {
          "base_uri": "https://localhost:8080/"
        },
        "id": "BbTn14XkIydp",
        "outputId": "90cff821-5499-44c4-fd23-575581849e63"
      },
      "source": [
        "import ray\n",
        "import random\n",
        "import time\n",
        "\n",
        "@ray.remote\n",
        "class Worker:\n",
        "    def __init__(self, worker_id):\n",
        "        self.worker_id = worker_id\n",
        "        self.n = 0 #オブジェクトの保存する変数\n",
        "    def add(self, n):\n",
        "        #5秒間待ってからオブジェクトの保存しているself.nに数字を足す作業を行う\n",
        "        time.sleep(self.worker_id)\n",
        "        self.n += n\n",
        "    def get_value(self):\n",
        "        return f\"Process: {self.worker_id}, value: {self.n}\"\n",
        "\n",
        "\n",
        "\n",
        "\n",
        "ray.init(ignore_reinit_error=True)\n",
        "start = time.time()\n",
        "\n",
        "workers = [ Worker.remote(i) for i in range(5) ] \n",
        "# それぞれ5秒待ってからself.nに5を足すタスクを実行させる\n",
        "for worker in workers:\n",
        "    worker.add.remote(5)\n",
        "\n",
        "# それぞれ5秒待ってからself.nに10を足すタスクの実行命令を出す\n",
        "for worker in workers:\n",
        "    worker.add.remote(10)\n",
        "\n",
        "results = [ worker.get_value.remote() for worker in workers ]\n",
        "results = ray.get( results )\n",
        "print(results)\n",
        "print(\"Elapsed:\", time.time()-start)\n",
        "\n",
        "# results = [ worker.get_value.remote() for worker in workers ]\n",
        "# でObjectRefのリストを作成している\n",
        "# ray.get()ではActor自身は引数にできず、ORefを対象とする\n",
        "# results = ray.get( results )で終了を同期している"
      ],
      "execution_count": 20,
      "outputs": [
        {
          "output_type": "stream",
          "text": [
            "2021-06-12 16:54:53,369\tINFO worker.py:737 -- Calling ray.init() again after it has already been called.\n",
            "2021-06-12 16:54:53,399\tWARNING worker.py:1114 -- WARNING: 22 PYTHON workers have been started on a node of the id: fa44040dc1aac70bb253d28d89d17c364687cd295990866622ef57b6 and address: 172.28.0.2. This could be a result of using a large number of actors, or it could be a consequence of using nested tasks (see https://github.com/ray-project/ray/issues/3644) for some a discussion of workarounds.\n"
          ],
          "name": "stderr"
        },
        {
          "output_type": "stream",
          "text": [
            "['Process: 0, value: 15', 'Process: 1, value: 15', 'Process: 2, value: 15', 'Process: 3, value: 15', 'Process: 4, value: 15']\n",
            "Elapsed: 10.832329750061035\n"
          ],
          "name": "stdout"
        }
      ]
    },
    {
      "cell_type": "markdown",
      "metadata": {
        "id": "f3rWbMjVKQ0X"
      },
      "source": [
        "# クラスでの分散非同期"
      ]
    },
    {
      "cell_type": "code",
      "metadata": {
        "colab": {
          "base_uri": "https://localhost:8080/"
        },
        "id": "jS7GkJRwKT0q",
        "outputId": "693db89d-3b56-4ea1-b12a-1f8074dfb4a2"
      },
      "source": [
        "import ray\n",
        "import random\n",
        "import time\n",
        "\n",
        "@ray.remote\n",
        "class Worker:\n",
        "    def __init__(self, worker_id):\n",
        "        self.worker_id = worker_id\n",
        "        self.n = 0 #オブジェクトの保存する変数\n",
        "    def add(self, n):\n",
        "        #5秒間待ってからオブジェクトの保存しているself.nに数字を足す作業を行う\n",
        "        time.sleep(random.randint(1,10))\n",
        "        self.n += n\n",
        "    def get_value(self):\n",
        "        return f\"Process: {self.worker_id}, value: {self.n}\"\n",
        "\n",
        "\n",
        "\n",
        "\n",
        "ray.init(ignore_reinit_error=True)\n",
        "start = time.time()\n",
        "\n",
        "workers = [ Worker.remote(i) for i in range(5) ] \n",
        "# それぞれ5秒待ってからself.nに5を足すタスクを実行させる\n",
        "for worker in workers:\n",
        "    worker.add.remote(5)\n",
        "\n",
        "# それぞれ5秒待ってからself.nに10を足すタスクの実行命令を出す\n",
        "for worker in workers:\n",
        "    worker.add.remote(10)\n",
        "\n",
        "work_in_progresses = [ worker.get_value.remote() for worker in workers ]\n",
        "\n",
        "for _ in range( len(work_in_progresses) ):\n",
        "    finished, work_in_progresses = ray.wait(work_in_progresses, num_returns=1)\n",
        "    orf = finished\n",
        "    print(ray.get(orf[0]))\n",
        "    print(\"Elapsed:\", time.time()-start, \"\\n\")\n",
        "\n",
        "# work_in_progresses = [ worker.get_value.remote() for worker in workers ]\n",
        "# で実行中のObjectRefのリストを作成している\n",
        "# あとは実行中の処理が終わるたびに結果と残りの処理を受け取っていく"
      ],
      "execution_count": 24,
      "outputs": [
        {
          "output_type": "stream",
          "text": [
            "2021-06-12 17:03:17,712\tINFO worker.py:737 -- Calling ray.init() again after it has already been called.\n"
          ],
          "name": "stderr"
        },
        {
          "output_type": "stream",
          "text": [
            "Process: 1, value: 15\n",
            "Elapsed: 7.995789289474487 \n",
            "\n",
            "Process: 3, value: 15\n",
            "Elapsed: 9.906349420547485 \n",
            "\n",
            "Process: 0, value: 15\n",
            "Elapsed: 9.934542655944824 \n",
            "\n",
            "Process: 4, value: 15\n",
            "Elapsed: 11.634456396102905 \n",
            "\n",
            "Process: 2, value: 15\n",
            "Elapsed: 20.9136381149292 \n",
            "\n"
          ],
          "name": "stdout"
        }
      ]
    }
  ]
}