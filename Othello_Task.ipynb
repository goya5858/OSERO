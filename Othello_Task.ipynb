{
  "nbformat": 4,
  "nbformat_minor": 0,
  "metadata": {
    "colab": {
      "name": "Othello_Task.ipynb",
      "provenance": [],
      "collapsed_sections": [],
      "authorship_tag": "ABX9TyN5/ZkbRrY4j2ILCIXAXxaJ",
      "include_colab_link": true
    },
    "kernelspec": {
      "name": "python3",
      "display_name": "Python 3"
    },
    "language_info": {
      "name": "python"
    }
  },
  "cells": [
    {
      "cell_type": "markdown",
      "metadata": {
        "id": "view-in-github",
        "colab_type": "text"
      },
      "source": [
        "<a href=\"https://colab.research.google.com/github/goya5858/OSERO/blob/main/Othello_Task.ipynb\" target=\"_parent\"><img src=\"https://colab.research.google.com/assets/colab-badge.svg\" alt=\"Open In Colab\"/></a>"
      ]
    },
    {
      "cell_type": "code",
      "metadata": {
        "id": "IKygTJntH1jZ"
      },
      "source": [
        "import torch\n",
        "import torch.nn as nn\n",
        "import torch.nn.functional as F\n",
        "import torch.optim as optim\n",
        "from torch.distributions import Categorical\n",
        "import torch.multiprocessing as mp\n",
        "import time\n",
        "\n",
        "import copy\n",
        "\n",
        "import random\n",
        "\n",
        "import numpy as np\n",
        "import pandas as pd\n",
        "import matplotlib.pyplot as plt\n",
        "\n",
        "import gym\n",
        "import numpy as np\n",
        "import matplotlib.pyplot as plt\n",
        "from torch.nn import functional as F"
      ],
      "execution_count": null,
      "outputs": []
    },
    {
      "cell_type": "code",
      "metadata": {
        "id": "mHGeaqD4H9WJ"
      },
      "source": [
        "# 対戦相手\n",
        "# 置ける場所にランダムに置いていく\n",
        "\n",
        "class Random_Player:\n",
        "    def __init__(self):\n",
        "        pass\n",
        "    \n",
        "    def get_action(self, board):\n",
        "        puttables = self.check(board)\n",
        "        print(\"CPU puttables\", puttables)\n",
        "        action = random.choice(puttables)\n",
        "        print(\"CPUs action\", action)\n",
        "        action = 8 * action[0] + action[1]\n",
        "        return action\n",
        "    \n",
        "    def check(self, board): #今回の手番の人が打てる場所をリストアップする\n",
        "        okeru_list = []\n",
        "        for x in range(8):\n",
        "            for y in range(8):\n",
        "                plc = board[y, x]\n",
        "                if plc == 0: #もし今回のplaceに何も置いていなければ8方向探索する\n",
        "                    able = self.octpass([x,y], board) #今回の場所に置いたときひっくり返せる場所をリストアップする\n",
        "                    if len(able) > 0: #もしひっくり返せる場所が0ではないなら置ける場所リストに今回の場所を追加する\n",
        "                        okeru_list.append([x,y])\n",
        "        return okeru_list\n",
        "    \n",
        "    def octpass(self, basho, board): #今回置きたい場所を渡したら８方向探索するメソッド\n",
        "        basho_list = set() #今回ひっくり返せる場所のリスト(setクラスを使う→重複なしで扱える)\n",
        "\n",
        "        if board[basho[1], basho[0]] != 0:\n",
        "            print('既に石が置かれています')\n",
        "        else:\n",
        "            for x in [-1,0,1]:\n",
        "                for y in [-1,0,1]: #8方向を順に見ていく\n",
        "                    tmp = [] #今回の確認する方向でひっくり返そうな場所を一時的に記憶しておくリスト\n",
        "\n",
        "                    if x == 0 and y == 0:\n",
        "                        pass #方向がないときはパスする\n",
        "\n",
        "                    for length in range(1,9): #今回確認する方向にだんだん腕を伸ばしていく\n",
        "                        if 0<=basho[1]+y*length<=7 and 0<=basho[0]+x*length<=7: #腕が盤面に収まるのなら\n",
        "                            check_plc = board[basho[1]+y*length, basho[0]+x*length]\n",
        "                            if check_plc == 0: #もし確認した場所に何も置いていなければ、飛び石になっちゃうので手を伸ばすのを終了\n",
        "                                break\n",
        "                            elif check_plc == -1: #もし確認した場所が相手プレイヤーの石だった場合その場所を一時記憶しておく\n",
        "                                tmp.append( (basho[0]+x*length, basho[1]+y*length) )\n",
        "                            elif check_plc == 1: #もし確認した場所が自分の石だった場合、ひっくり返せるリストに現在ひっくり返せそうな場所を追加して腕を伸ばすのをやめる\n",
        "                                if len(tmp) > 0: #中身がからでない場合のみ\n",
        "                                    basho_list |= set(tmp)\n",
        "                                break #手を伸ばすのを終了\n",
        "\n",
        "                        else: #もし盤面を飛び出してしまうならpassする\n",
        "                            pass\n",
        "        return list(basho_list)"
      ],
      "execution_count": null,
      "outputs": []
    },
    {
      "cell_type": "code",
      "metadata": {
        "id": "J-TW1u-nIU3t"
      },
      "source": [
        "# オセロ自体のクラス\n",
        "# 盤面を持っており、石をおくとひっくり返す\n",
        "# もしすでに置いてある場所や不適切な場所に置いた場合、空のリストを返す\n",
        "\n",
        "class OTHELLO:\n",
        "    def __init__(self, player_color='B'):\n",
        "        self.player = player_color\n",
        "\n",
        "        # 差し手の色が1, 相手(CPU)の色が-1\n",
        "        self.board = np.zeros((8,8)).astype(np.int8)\n",
        "        self.board[3,4] = self.board[4,3] = -1\n",
        "        self.board[3,3] = self.board[4,4] = 1\n",
        "        if self.player == 'W': #もし差し手が白なら1, -1を反転する\n",
        "            self.board *= -1\n",
        "    \n",
        "    def put(self, basho, player='human'):\n",
        "        # 石をおいてひっくり返す     basho = (x, y) の形式\n",
        "\n",
        "        if self.board[ basho[1], basho[0] ] != 0:\n",
        "            print('すでにおいてあります')\n",
        "            return []\n",
        "\n",
        "        if player != 'human':\n",
        "            self.board*=-1 # もし差し手がCPUの場合、敵味方のラベルを入れ替える\n",
        "\n",
        "        reversibles = self.octpass(basho)\n",
        "        if reversibles:\n",
        "            #空でないなら\n",
        "            self.board[basho[1], basho[0]] = 1\n",
        "            for reversible_basho in reversibles:\n",
        "                self.board[reversible_basho[1], reversible_basho[0]] = 1\n",
        "            if player != 'human':\n",
        "                self.board*=-1 # もし差し手がCPUの場合、敵味方のラベルを入れ替え直す\n",
        "            return self.board\n",
        "\n",
        "        else: # もしひっくり返せる場所においてなかった場合\n",
        "            if player != 'human':\n",
        "                self.board*=-1 # もし差し手がCPUの場合、敵味方のラベルを入れ替え直す\n",
        "            return []\n",
        "        \n",
        "          \n",
        "    def check(self, player='human'):\n",
        "        # 盤面を渡すと、今回置ける場所を返してくれる\n",
        "        # 0が置いてない場所、1が自分の意思がある場所、-1が相手の石が置いてある場所\n",
        "        okeru_list = []\n",
        "        if player != 'human':\n",
        "            self.board*=-1\n",
        "        for x in range(8):\n",
        "            for y in range(8):\n",
        "                plc = self.board[y, x]\n",
        "                if plc == 0: #もし今回のplaceに何も置いていなければ8方向探索する\n",
        "                    able = self.octpass([x,y]) #今回の場所に置いたときひっくり返せる場所をリストアップする\n",
        "                    if len(able) > 0: #もしひっくり返せる場所が0ではないなら置ける場所リストに今回の場所を追加する\n",
        "                        okeru_list.append([x,y])\n",
        "        if player != 'human':\n",
        "            self.board*=-1\n",
        "        return okeru_list\n",
        "    \n",
        "    def find(self):\n",
        "        # 自分(1)が置ける場所を\"5\"で示す (相手の石の場所は-1)　\n",
        "        places = self.check()\n",
        "        cm_board = copy.deepcopy( self.board )\n",
        "        for basho in places:\n",
        "            cm_board[basho[1], basho[0]] = 5\n",
        "        print(cm_board)\n",
        "  \n",
        "    def octpass(self, basho): \n",
        "        # 今回置きたい場所を渡したら８方向探索するメソッド\n",
        "        # 今回ひっくり返せる場所が帰ってくる\n",
        "        basho_list = set() #今回ひっくり返せる場所のリスト(setクラスを使う→重複なしで扱える)\n",
        "\n",
        "        if self.board[basho[1], basho[0]] != 0:\n",
        "            print('既に石が置かれています')\n",
        "        else:\n",
        "            for x in [-1,0,1]:\n",
        "                for y in [-1,0,1]: #8方向を順に見ていく\n",
        "                    tmp = [] #今回の確認する方向でひっくり返そうな場所を一時的に記憶しておくリスト\n",
        "\n",
        "                    if x == 0 and y == 0:\n",
        "                        pass #方向がないときはパスする\n",
        "\n",
        "                    for length in range(1,9): #今回確認する方向にだんだん腕を伸ばしていく\n",
        "                        if 0<=basho[1]+y*length<=7 and 0<=basho[0]+x*length<=7: #腕が盤面に収まるのなら\n",
        "                            check_plc = self.board[ basho[1]+y*length, basho[0]+x*length ]\n",
        "                            if check_plc == 0: #もし確認した場所に何も置いていなければ、飛び石になっちゃうので手を伸ばすのを終了\n",
        "                                break\n",
        "                            elif check_plc == -1: #もし確認した場所が相手プレイヤーの石だった場合その場所を一時記憶しておく\n",
        "                                tmp.append( (basho[0]+x*length, basho[1]+y*length) )\n",
        "                            elif check_plc == 1: #もし確認した場所が自分の石だった場合、ひっくり返せるリストに現在ひっくり返せそうな場所を追加して腕を伸ばすのをやめる\n",
        "                                if len(tmp) > 0: #中身がからでない場合のみ\n",
        "                                    basho_list |= set(tmp)\n",
        "                                break #手を伸ばすのを終了\n",
        "\n",
        "                        else: #もし盤面を飛び出してしまうならpassする\n",
        "                            pass\n",
        "        return list(basho_list)"
      ],
      "execution_count": null,
      "outputs": []
    },
    {
      "cell_type": "code",
      "metadata": {
        "id": "5-s-G3ETIUr9"
      },
      "source": [
        "# オセロを実行するタスク本体\n",
        "# オセロゲーム自体と、対戦相手(CPU)を持つ\n",
        "\n",
        "# Instance.reset() メソッドで初期化\n",
        "# state_next, reward, done, info = Instance.step( action )\n",
        "# 上記のようにcart poleのように使える\n",
        "# infoは形だけ　中身は相手が打てる手があるかの判断として使ってる \n",
        "\n",
        "# Human-Playerが先手の場合、player_color='B'\n",
        "# Human-Playerが後手の場合、player_color='W'\n",
        "# で設定する\n",
        "\n",
        "class OTHELLO_Task:\n",
        "    def __init__(self, player_color='B'):\n",
        "        self.player_color = player_color\n",
        "        self.GAME = OTHELLO(player_color=self.player_color)\n",
        "        self.CPU_Player = Random_Player()\n",
        "    \n",
        "    def reset(self):\n",
        "        self.GAME = OTHELLO(player_color=self.player_color)\n",
        "        state_next = self.GAME.board\n",
        "        if self.player_color == 'W':\n",
        "            # もし人間が後手だった場合\n",
        "            state_next*=-1\n",
        "            reward, state_next, done, info = self.step_cpu()\n",
        "        return state_next\n",
        "\n",
        "    \n",
        "    def step(self, action):\n",
        "        # step_humanとstep_cpuを両方行い、最終的なState_nextを返す\n",
        "        state_next, reward, done, info = self.step_human(action)\n",
        "        if done or info: #　ゲーム終了 or CPUの置く場所がない なら現在のReward, State_nextを返す\n",
        "            print('game done with Human_turn')\n",
        "            return state_next, reward, done, info\n",
        "        else:\n",
        "            info = True\n",
        "            while info: # 初回のCPUの手番 or 人間側に置ける場所がない時\n",
        "                state_next, reward, done, info = self.step_cpu()\n",
        "            return state_next, reward, done, info\n",
        "            \n",
        "    \n",
        "    def step_human(self, action):\n",
        "        # 環境からAction_tを受け取って、それに対する報酬(Rewoard_t)と次の盤面(State_t+1)、終了か否か(done), 次の相手の手番を飛ばすか(info)を返す\n",
        "        basho = ( action//8, action%8 ) #actionは0-63なので(8,8)の二次元に変換する\n",
        "        state_next = self.GAME.put(basho, player='human')\n",
        "        info = False\n",
        "\n",
        "        if len(state_next) ==0:\n",
        "            # 自分が間違えた場所に置いた場合\n",
        "            print('you missed')\n",
        "            reward = -1\n",
        "            state_next = None\n",
        "            done = True\n",
        "            info = False\n",
        "        else:\n",
        "            reward = 0\n",
        "            if self.GAME.check(player='cpu'):\n",
        "                done = False\n",
        "            else: #相手(CPU)のおける場所がなかった場合\n",
        "                if self.GAME.check(player='human'):\n",
        "                    # 自分に置ける場所があるなら\n",
        "                    info = True #相手番はpass\n",
        "                    done = False\n",
        "                else:\n",
        "                    #自分にも置ける場所がないなら\n",
        "                    done = True\n",
        "                    if sum(sum(self.GAME.board)) > 0: #自分の石の方が多いなら\n",
        "                        reward = 1\n",
        "                    else:\n",
        "                        reward = -1\n",
        "        print('human_turn')\n",
        "        return state_next, reward, done, info\n",
        "    \n",
        "    def step_cpu(self):\n",
        "        state = self.GAME.board\n",
        "        print(\"CPUs state !!!!!!!!!!!!!!!!!\")\n",
        "        #plt_img(state=state)\n",
        "        action = self.CPU_Player.get_action( -1*state )\n",
        "        basho = ( action//8, action%8 ) #actionは0-63なので(8,8)の二次元に変換する\n",
        "        state_next = self.GAME.put(basho, player='cpu')\n",
        "        info = False\n",
        "\n",
        "        if len(state_next) ==0:\n",
        "            # CPUが間違えた場所に置いた場合\n",
        "            print('CPU missed')\n",
        "            reward = 1\n",
        "            state_next = None\n",
        "            done = True\n",
        "            info = False  \n",
        "        else:\n",
        "            reward = 0\n",
        "            if self.GAME.check(player='human'):\n",
        "                done = False\n",
        "            else: #相手(Human)のおける場所がなかった場合\n",
        "                if self.GAME.check(player='cpu'):\n",
        "                    # 自分(CPU)に置ける場所があるなら\n",
        "                    info = True #相手番はpass\n",
        "                    done = False\n",
        "                else:\n",
        "                    #自分にも置ける場所がないなら\n",
        "                    done = True\n",
        "                    if sum(sum(self.GAME.board)) > 0: #Humanの石の方が多いなら\n",
        "                        reward = 1\n",
        "                    else:\n",
        "                        reward = -1\n",
        "        print('cpu_turn')    \n",
        "        return state_next, reward, done, info"
      ],
      "execution_count": null,
      "outputs": []
    },
    {
      "cell_type": "code",
      "metadata": {
        "id": "squBsEVNH_Pt"
      },
      "source": [
        "# 描写用関数\n",
        "# 自分の石は黒、相手の石が白になる\n",
        "\n",
        "def plt_img(state):\n",
        "    table = np.stack([state, state, state]).transpose(1,2,0).astype(np.int16)\n",
        "\n",
        "    plt.close()\n",
        "    #plt.imshow((-3*table**2+7*table)*100+100, extent=(0,8,0,8), cmap='bwr')\n",
        "    plt.imshow((table)*-100+100, extent=(0,8,0,8), cmap='bwr')\n",
        "    plt.xticks([0,1,2,3,4,5,6,7,8])\n",
        "    # x軸に補助目盛線を設定\n",
        "    plt.grid(which = \"major\", axis = \"x\", color = \"green\", alpha = 0.8,\n",
        "            linestyle = \"--\", linewidth = 3)\n",
        "\n",
        "    # y軸に目盛線を設定\n",
        "    plt.grid(which = \"major\", axis = \"y\", color = \"green\", alpha = 0.8,\n",
        "            linestyle = \"--\", linewidth = 3)\n",
        "    plt.show()"
      ],
      "execution_count": null,
      "outputs": []
    },
    {
      "cell_type": "markdown",
      "metadata": {
        "id": "gAktOSCXJc7c"
      },
      "source": [
        "# デモプレイ"
      ]
    },
    {
      "cell_type": "code",
      "metadata": {
        "colab": {
          "base_uri": "https://localhost:8080/",
          "height": 589
        },
        "id": "HCbtqNPXJdTh",
        "outputId": "e82e0886-75b1-4a89-a703-be88bdbe9b6d"
      },
      "source": [
        "task = OTHELLO_Task(player_color='W')\n",
        "state = task.reset()\n",
        "\n",
        "plt_img(state=task.GAME.board)\n",
        "print(\"Your puttable\", task.GAME.check())"
      ],
      "execution_count": null,
      "outputs": [
        {
          "output_type": "stream",
          "text": [
            "CPUs state !!!!!!!!!!!!!!!!!\n"
          ],
          "name": "stdout"
        },
        {
          "output_type": "display_data",
          "data": {
            "image/png": "[encoded data removed]",
            "text/plain": [
              "<Figure size 432x288 with 1 Axes>"
            ]
          },
          "metadata": {
            "tags": [],
            "needs_background": "light"
          }
        },
        {
          "output_type": "stream",
          "text": [
            "CPU puttables [[2, 3], [3, 2], [4, 5], [5, 4]]\n",
            "CPUs action [4, 5]\n"
          ],
          "name": "stdout"
        },
        {
          "output_type": "display_data",
          "data": {
            "image/png": "[encoded data removed]",
            "text/plain": [
              "<Figure size 432x288 with 1 Axes>"
            ]
          },
          "metadata": {
            "tags": [],
            "needs_background": "light"
          }
        },
        {
          "output_type": "stream",
          "text": [
            "Your puttable [[3, 5], [5, 3], [5, 5]]\n"
          ],
          "name": "stdout"
        }
      ]
    },
    {
      "cell_type": "code",
      "metadata": {
        "colab": {
          "base_uri": "https://localhost:8080/",
          "height": 725
        },
        "id": "8sD8z6ucJhPa",
        "outputId": "b9ac5d4d-cf22-4937-bb37-459c2345bbaa"
      },
      "source": [
        "A = [3, 5]\n",
        "action = 8*A[0] + A[1]\n",
        "reward, state_next, done, info = task.step(action)\n",
        "\n",
        "print(\"\\n\")\n",
        "print(\"done\", done)\n",
        "print(\"info\", info)\n",
        "print(\"reward\", reward)\n",
        "\n",
        "print(\"\\n\")\n",
        "print(\"Humans state !!!!!!!!!!!!!!!!!\")\n",
        "plt_img(state=task.GAME.board)\n",
        "print(\"Your puttable\", task.GAME.check())"
      ],
      "execution_count": null,
      "outputs": [
        {
          "output_type": "stream",
          "text": [
            "CPUs state !!!!!!!!!!!!!!!!!\n"
          ],
          "name": "stdout"
        },
        {
          "output_type": "display_data",
          "data": {
            "image/png": "[encoded data removed]",
            "text/plain": [
              "<Figure size 432x288 with 1 Axes>"
            ]
          },
          "metadata": {
            "tags": [],
            "needs_background": "light"
          }
        },
        {
          "output_type": "stream",
          "text": [
            "CPU puttables [[2, 2], [2, 3], [2, 4], [2, 5], [2, 6]]\n",
            "CPUs action [2, 5]\n",
            "\n",
            "\n",
            "done False\n",
            "info False\n",
            "reward 0\n",
            "\n",
            "\n",
            "Humans state !!!!!!!!!!!!!!!!!\n"
          ],
          "name": "stdout"
        },
        {
          "output_type": "display_data",
          "data": {
            "image/png": "[encoded data removed]",
            "text/plain": [
              "<Figure size 432x288 with 1 Axes>"
            ]
          },
          "metadata": {
            "tags": [],
            "needs_background": "light"
          }
        },
        {
          "output_type": "stream",
          "text": [
            "Your puttable [[3, 6], [5, 3], [5, 5]]\n"
          ],
          "name": "stdout"
        }
      ]
    }
  ]
}