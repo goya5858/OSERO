{
  "nbformat": 4,
  "nbformat_minor": 0,
  "metadata": {
    "colab": {
      "name": "DQN_OTHELLO_1.ipynb",
      "provenance": [],
      "collapsed_sections": [],
      "mount_file_id": "1D70SAnofOSucwboU6ZMaZhPVa6cp5s6i",
      "authorship_tag": "ABX9TyODUsfkuCDk252jNFzTqN2h",
      "include_colab_link": true
    },
    "kernelspec": {
      "name": "python3",
      "display_name": "Python 3"
    },
    "language_info": {
      "name": "python"
    },
    "widgets": {
      "application/vnd.jupyter.widget-state+json": {
        "8dc01f045081437398efe60b987d7907": {
          "model_module": "@jupyter-widgets/controls",
          "model_name": "HBoxModel",
          "state": {
            "_view_name": "HBoxView",
            "_dom_classes": [],
            "_model_name": "HBoxModel",
            "_view_module": "@jupyter-widgets/controls",
            "_model_module_version": "1.5.0",
            "_view_count": null,
            "_view_module_version": "1.5.0",
            "box_style": "",
            "layout": "IPY_MODEL_2c599bbdd6144db699e290ece601c80a",
            "_model_module": "@jupyter-widgets/controls",
            "children": [
              "IPY_MODEL_4e27ed32a68d484fb9d8373c8fe99bb5",
              "IPY_MODEL_6c9ce43a31664bfd967c75d051ba0ad9"
            ]
          }
        },
        "2c599bbdd6144db699e290ece601c80a": {
          "model_module": "@jupyter-widgets/base",
          "model_name": "LayoutModel",
          "state": {
            "_view_name": "LayoutView",
            "grid_template_rows": null,
            "right": null,
            "justify_content": null,
            "_view_module": "@jupyter-widgets/base",
            "overflow": null,
            "_model_module_version": "1.2.0",
            "_view_count": null,
            "flex_flow": null,
            "width": null,
            "min_width": null,
            "border": null,
            "align_items": null,
            "bottom": null,
            "_model_module": "@jupyter-widgets/base",
            "top": null,
            "grid_column": null,
            "overflow_y": null,
            "overflow_x": null,
            "grid_auto_flow": null,
            "grid_area": null,
            "grid_template_columns": null,
            "flex": null,
            "_model_name": "LayoutModel",
            "justify_items": null,
            "grid_row": null,
            "max_height": null,
            "align_content": null,
            "visibility": null,
            "align_self": null,
            "height": null,
            "min_height": null,
            "padding": null,
            "grid_auto_rows": null,
            "grid_gap": null,
            "max_width": null,
            "order": null,
            "_view_module_version": "1.2.0",
            "grid_template_areas": null,
            "object_position": null,
            "object_fit": null,
            "grid_auto_columns": null,
            "margin": null,
            "display": null,
            "left": null
          }
        },
        "4e27ed32a68d484fb9d8373c8fe99bb5": {
          "model_module": "@jupyter-widgets/controls",
          "model_name": "FloatProgressModel",
          "state": {
            "_view_name": "ProgressView",
            "style": "IPY_MODEL_85bdbffa24fb4f5584a8d1ddcb50befa",
            "_dom_classes": [],
            "description": "100%",
            "_model_name": "FloatProgressModel",
            "bar_style": "success",
            "max": 100,
            "_view_module": "@jupyter-widgets/controls",
            "_model_module_version": "1.5.0",
            "value": 100,
            "_view_count": null,
            "_view_module_version": "1.5.0",
            "orientation": "horizontal",
            "min": 0,
            "description_tooltip": null,
            "_model_module": "@jupyter-widgets/controls",
            "layout": "IPY_MODEL_8554c9ea34c54a59926d6b2855025c17"
          }
        },
        "6c9ce43a31664bfd967c75d051ba0ad9": {
          "model_module": "@jupyter-widgets/controls",
          "model_name": "HTMLModel",
          "state": {
            "_view_name": "HTMLView",
            "style": "IPY_MODEL_2c3cea9a8b1a4a8691be38a7150cb6e5",
            "_dom_classes": [],
            "description": "",
            "_model_name": "HTMLModel",
            "placeholder": "​",
            "_view_module": "@jupyter-widgets/controls",
            "_model_module_version": "1.5.0",
            "value": " 100/100 [04:12&lt;00:00,  2.53s/it]",
            "_view_count": null,
            "_view_module_version": "1.5.0",
            "description_tooltip": null,
            "_model_module": "@jupyter-widgets/controls",
            "layout": "IPY_MODEL_4e519278bc0245b59f00e04a83093335"
          }
        },
        "85bdbffa24fb4f5584a8d1ddcb50befa": {
          "model_module": "@jupyter-widgets/controls",
          "model_name": "ProgressStyleModel",
          "state": {
            "_view_name": "StyleView",
            "_model_name": "ProgressStyleModel",
            "description_width": "initial",
            "_view_module": "@jupyter-widgets/base",
            "_model_module_version": "1.5.0",
            "_view_count": null,
            "_view_module_version": "1.2.0",
            "bar_color": null,
            "_model_module": "@jupyter-widgets/controls"
          }
        },
        "8554c9ea34c54a59926d6b2855025c17": {
          "model_module": "@jupyter-widgets/base",
          "model_name": "LayoutModel",
          "state": {
            "_view_name": "LayoutView",
            "grid_template_rows": null,
            "right": null,
            "justify_content": null,
            "_view_module": "@jupyter-widgets/base",
            "overflow": null,
            "_model_module_version": "1.2.0",
            "_view_count": null,
            "flex_flow": null,
            "width": null,
            "min_width": null,
            "border": null,
            "align_items": null,
            "bottom": null,
            "_model_module": "@jupyter-widgets/base",
            "top": null,
            "grid_column": null,
            "overflow_y": null,
            "overflow_x": null,
            "grid_auto_flow": null,
            "grid_area": null,
            "grid_template_columns": null,
            "flex": null,
            "_model_name": "LayoutModel",
            "justify_items": null,
            "grid_row": null,
            "max_height": null,
            "align_content": null,
            "visibility": null,
            "align_self": null,
            "height": null,
            "min_height": null,
            "padding": null,
            "grid_auto_rows": null,
            "grid_gap": null,
            "max_width": null,
            "order": null,
            "_view_module_version": "1.2.0",
            "grid_template_areas": null,
            "object_position": null,
            "object_fit": null,
            "grid_auto_columns": null,
            "margin": null,
            "display": null,
            "left": null
          }
        },
        "2c3cea9a8b1a4a8691be38a7150cb6e5": {
          "model_module": "@jupyter-widgets/controls",
          "model_name": "DescriptionStyleModel",
          "state": {
            "_view_name": "StyleView",
            "_model_name": "DescriptionStyleModel",
            "description_width": "",
            "_view_module": "@jupyter-widgets/base",
            "_model_module_version": "1.5.0",
            "_view_count": null,
            "_view_module_version": "1.2.0",
            "_model_module": "@jupyter-widgets/controls"
          }
        },
        "4e519278bc0245b59f00e04a83093335": {
          "model_module": "@jupyter-widgets/base",
          "model_name": "LayoutModel",
          "state": {
            "_view_name": "LayoutView",
            "grid_template_rows": null,
            "right": null,
            "justify_content": null,
            "_view_module": "@jupyter-widgets/base",
            "overflow": null,
            "_model_module_version": "1.2.0",
            "_view_count": null,
            "flex_flow": null,
            "width": null,
            "min_width": null,
            "border": null,
            "align_items": null,
            "bottom": null,
            "_model_module": "@jupyter-widgets/base",
            "top": null,
            "grid_column": null,
            "overflow_y": null,
            "overflow_x": null,
            "grid_auto_flow": null,
            "grid_area": null,
            "grid_template_columns": null,
            "flex": null,
            "_model_name": "LayoutModel",
            "justify_items": null,
            "grid_row": null,
            "max_height": null,
            "align_content": null,
            "visibility": null,
            "align_self": null,
            "height": null,
            "min_height": null,
            "padding": null,
            "grid_auto_rows": null,
            "grid_gap": null,
            "max_width": null,
            "order": null,
            "_view_module_version": "1.2.0",
            "grid_template_areas": null,
            "object_position": null,
            "object_fit": null,
            "grid_auto_columns": null,
            "margin": null,
            "display": null,
            "left": null
          }
        }
      }
    }
  },
  "cells": [
    {
      "cell_type": "markdown",
      "metadata": {
        "id": "view-in-github",
        "colab_type": "text"
      },
      "source": [
        "<a href=\"https://colab.research.google.com/github/goya5858/OSERO/blob/main/DQN_OTHELLO_2.ipynb\" target=\"_parent\"><img src=\"https://colab.research.google.com/assets/colab-badge.svg\" alt=\"Open In Colab\"/></a>"
      ]
    },
    {
      "cell_type": "code",
      "metadata": {
        "id": "_3q0ri9irrIz"
      },
      "source": [
        "import torch\n",
        "import torch.nn as nn\n",
        "import torch.nn.functional as F\n",
        "import torch.optim as optim\n",
        "from torch.distributions import Categorical\n",
        "import torch.multiprocessing as mp\n",
        "import time\n",
        "\n",
        "import copy\n",
        "\n",
        "import random\n",
        "\n",
        "import numpy as np\n",
        "import pandas as pd\n",
        "import matplotlib.pyplot as plt\n",
        "\n",
        "import gym\n",
        "import numpy as np\n",
        "import matplotlib.pyplot as plt\n",
        "from torch.nn import functional as F\n",
        "\n",
        "from tqdm.notebook import tqdm\n",
        "\n",
        "import matplotlib.patches as pat\n",
        "import seaborn as sns"
      ],
      "execution_count": 1,
      "outputs": []
    },
    {
      "cell_type": "markdown",
      "metadata": {
        "id": "MYQW6h6ntWps"
      },
      "source": [
        "# Agent"
      ]
    },
    {
      "cell_type": "code",
      "metadata": {
        "id": "pakVIxsPYpfI"
      },
      "source": [
        "class CNN_Brain(nn.Module):\n",
        "    def __init__(self):\n",
        "        super().__init__()\n",
        "        self.relu = nn.ReLU()\n",
        "\n",
        "        self.bn1 = nn.BatchNorm2d(32)\n",
        "        self.bn2 = nn.BatchNorm2d(32)\n",
        "        self.bn3 = nn.BatchNorm2d(64)\n",
        "        self.bn4 = nn.BatchNorm2d(64)\n",
        "\n",
        "        self.conv1 = nn.Conv2d(3, 32, 3, padding=1)\n",
        "        self.conv2 = nn.Conv2d(32, 32, 3, padding=1)\n",
        "        self.conv3 = nn.Conv2d(32, 64, 3, padding=1)\n",
        "        self.conv4 = nn.Conv2d(64, 64, 3, padding=1)\n",
        "\n",
        "        self.flatten = nn.Flatten()\n",
        "\n",
        "        self.fc1 = nn.Linear(64*8*8, 64)\n",
        "\n",
        "    def forward(self, x):\n",
        "        x = self.relu(self.bn1(self.conv1(x)))\n",
        "        x = self.relu(self.bn2(self.conv2(x)))\n",
        "        x = self.relu(self.bn3(self.conv3(x)))\n",
        "        x = self.relu(self.bn4(self.conv4(x)))\n",
        "        x = self.flatten(x)\n",
        "        x = self.fc1(x)\n",
        "        return x"
      ],
      "execution_count": 21,
      "outputs": []
    },
    {
      "cell_type": "markdown",
      "metadata": {
        "id": "0VTx8xu-Z2mj"
      },
      "source": [
        "# Actor-Critic系への転用も見据えてpi, Vのダブルヘッド\n",
        "\n",
        "class CNN_Brain(nn.Module):\n",
        "    def __init__(self):\n",
        "        super().__init__()\n",
        "        self.relu = nn.ReLU()\n",
        "\n",
        "        self.bn1 = nn.BatchNorm2d(32)\n",
        "        self.bn2 = nn.BatchNorm2d(32)\n",
        "        self.bn3 = nn.BatchNorm2d(64)\n",
        "        self.bn4 = nn.BatchNorm2d(64)\n",
        "\n",
        "        self.conv1 = nn.Conv2d(3, 32, 3, padding=1)\n",
        "        self.conv2 = nn.Conv2d(32, 32, 3, padding=1)\n",
        "        self.conv3 = nn.Conv2d(32, 64, 3, padding=1)\n",
        "        self.conv4 = nn.Conv2d(64, 64, 3, padding=1)\n",
        "\n",
        "        self.drop1 = nn.Dropout(p=0.3)\n",
        "        self.drop2 = nn.Dropout(p=0.3)\n",
        "        self.drop3 = nn.Dropout(p=0.3)\n",
        "        self.drop4 = nn.Dropout(p=0.3)\n",
        "\n",
        "        self.flatten = nn.Flatten()\n",
        "\n",
        "        self.pi_net = nn.Linear(64*8*8, 64)\n",
        "        self.pi_act = nn.Softmax()\n",
        "\n",
        "        self.V_net = nn.Linear(64*8*8, 1)\n",
        "\n",
        "    def forward(self, x):\n",
        "        x  = self.relu(self.bn1(self.conv1(x)))\n",
        "        x  = self.drop1(x)\n",
        "\n",
        "        x  = self.relu(self.bn2(self.conv2(x)))\n",
        "        x  = self.drop2(x)\n",
        "\n",
        "        x  = self.relu(self.bn3(self.conv3(x)))\n",
        "        x  = self.drop3(x)\n",
        "\n",
        "        x  = self.relu(self.bn4(self.conv4(x)))\n",
        "        x  = self.flatten(x)\n",
        "        x  = self.drop4(x)\n",
        "\n",
        "        pi = self.pi_act( self.pi_net(x) )\n",
        "        V  = self.V_net(x)\n",
        "        return pi, V"
      ]
    },
    {
      "cell_type": "code",
      "metadata": {
        "id": "iEEPD26SYqHt"
      },
      "source": [
        "from collections import namedtuple\n",
        "Transition = namedtuple('Transition', ('state', 'action', 'reward', 'state_next'))\n",
        "\n",
        "class Agent_Memory():\n",
        "    def __init__(self):\n",
        "        self.capacity = CAPACITY #メモリの大きさ\n",
        "        self.memory = []\n",
        "        self.index = 0\n",
        "\n",
        "    def sample(self, BATCH_SIZE):\n",
        "        '''batch_size分だけ、ランダムに保存内容を取り出す'''\n",
        "        if len(self.memory) < BATCH_SIZE:\n",
        "            BATCH_SIZE = len(self.memory)\n",
        "\n",
        "        transitions = random.sample(self.memory, BATCH_SIZE) #BATCH_SIZEの分だけランダムにデータを取り出す\n",
        "        BATCH = Transition(*zip(*transitions)) #State, Action, Reward, State_Nextの各要素ごとにまとめ直す\n",
        "\n",
        "        State_BATCH      = torch.tensor( np.concatenate( BATCH.state, axis=0 ) ,dtype=torch.float)\n",
        "        Action_BATCH     = torch.tensor( np.stack( BATCH.action ) ,dtype=torch.int64)\n",
        "        Reward_BATCH     = torch.tensor( np.stack( BATCH.reward ) ,dtype=torch.float)\n",
        "        State_Next_BATCH = np.array( BATCH.state_next ) \n",
        "        non_final_mask   = [s is not None for s in State_Next_BATCH]\n",
        "        State_Next_BATCH = torch.tensor( np.concatenate(State_Next_BATCH[non_final_mask], axis=0 ) ,dtype=torch.float)\n",
        "        return State_BATCH, Action_BATCH, Reward_BATCH, State_Next_BATCH, non_final_mask\n",
        "\n",
        "    def put_memory(self, state, action, reward, state_next):\n",
        "        '''transition = (state, action, reward, state_next)をメモリに保存する'''\n",
        "        if len(self.memory) < self.capacity:\n",
        "            self.memory.append(None)  # メモリが満タンでないときは足す\n",
        "        self.memory[self.index] = Transition(state, action, reward, state_next)\n",
        "        self.index = (self.index + 1) % self.capacity  # 保存するindexを1つずらす"
      ],
      "execution_count": 4,
      "outputs": []
    },
    {
      "cell_type": "code",
      "metadata": {
        "id": "dr8OBm06A-wO"
      },
      "source": [
        "class Agent():\n",
        "    def __init__(self):\n",
        "        self.Network = CNN_Brain()\n",
        "        self.Network.load_state_dict( torch.load(MODEL_PATH, map_location=torch.device(DEVICE)) )\n",
        "        self.Memory  = Agent_Memory()\n",
        "        self.optim   = optim.Adam(self.Network.parameters(), lr=RL)\n",
        "        self.lr_scheduler = optim.lr_scheduler.StepLR(optimizer=self.optim, step_size=SCH_STEP_SIZE, gamma=SCH_GAMMA)\n",
        "\n",
        "    def get_action(self, state, episode=500): \n",
        "        # ε-greedy法で徐々に最適行動のみを採用する\n",
        "        #epsilon = 0.5 * (1 / (episode + 1))\n",
        "        epsilon = 0\n",
        "        if epsilon <= np.random.uniform(0, 1):\n",
        "            self.Network.eval()  # ネットワークを推論モードに切り替える\n",
        "            with torch.no_grad():\n",
        "                #Q_values, _ = self.Network( torch.tensor( state, dtype=torch.float ) )\n",
        "                Q_values = self.Network( torch.tensor( state, dtype=torch.float ) )\n",
        "                action = Q_values.argmax().detach().numpy()\n",
        "                #m = Categorical( F.softmax(Q_values) )\n",
        "                #action = m.sample().detach().numpy()[0]\n",
        "        #else:\n",
        "        #    action = np.random.choice( 64 )   # 0-63 の行動をランダムに返す\n",
        "        #    action = np.array(action)\n",
        "        return action\n",
        "\n",
        "    def update_Network(self, BATCH_SIZE):\n",
        "        if len(self.Memory.memory) < BATCH_SIZE:\n",
        "            BATCH_SIZE = len(self.Memory.memory)\n",
        "        \n",
        "        if len(self.Memory.memory) < 2:\n",
        "            # memoryの長さが2未満の場合、State_NextのBATCHがNoneのみのため何もしない\n",
        "            return \n",
        "        self.Network.train().to(DEVICE)\n",
        "        # Memoryから学習用のデータをランダムに取り出す\n",
        "        State_BATCH, Action_BATCH, Reward_BATCH, State_Next_BATCH, non_final_mask = self.Memory.sample(BATCH_SIZE)\n",
        "        #Q_values = self.Network(State_BATCH.to(DEVICE))[0].gather(1, Action_BATCH.reshape(-1,1).to(DEVICE)) # Action_BATCHのshapeは(-1)ではなく、(-1,1)の二次元である必要がある\n",
        "        Q_values = self.Network(State_BATCH.to(DEVICE)).gather(1, Action_BATCH.reshape(-1,1).to(DEVICE)) # Action_BATCHのshapeは(-1)ではなく、(-1,1)の二次元である必要がある\n",
        "        \n",
        "        next_Q_values = torch.zeros(BATCH_SIZE).to(DEVICE) #全部0で初期化しておいて、non_finalの場所だけ計算する\n",
        "        #next_Q_values[non_final_mask] = self.Network(State_Next_BATCH.to(DEVICE))[0].max(1)[0].detach()\n",
        "        next_Q_values[non_final_mask] = self.Network(State_Next_BATCH.to(DEVICE)).max(1)[0].detach()\n",
        "        # max()メソッドで最大値を計算した後、[0]で数値を取り出す必要がある, detach()で勾配を消しておく    \n",
        "\n",
        "        true_Q_values =  (Reward_BATCH.to(DEVICE)+ GAMMA * next_Q_values).unsqueeze(1)  #2次元配列に変換\n",
        "        loss = F.smooth_l1_loss(Q_values, true_Q_values)\n",
        "\n",
        "        self.optim.zero_grad()\n",
        "        loss.backward()\n",
        "        nn.utils.clip_grad_norm_(self.Network.parameters(), GClip)\n",
        "        self.optim.step() \n",
        "        self.lr_scheduler.step()\n",
        "        self.Network.to('cpu')\n",
        "    \n",
        "    def memorize(self, state, action, reward, state_next):\n",
        "        self.Memory.put_memory(state, action, reward, state_next)"
      ],
      "execution_count": 24,
      "outputs": []
    },
    {
      "cell_type": "markdown",
      "metadata": {
        "id": "JkxVf_iQtYpq"
      },
      "source": [
        "# Task"
      ]
    },
    {
      "cell_type": "code",
      "metadata": {
        "id": "IeWP-QNmiXiL"
      },
      "source": [
        "class CPU_Agent():\n",
        "    def __init__(self):\n",
        "        self.Network = CNN_Brain()\n",
        "        self.Network.load_state_dict( torch.load(CPU_MODEL_PATH, map_location=torch.device(DEVICE))) \n",
        "        self.Network = self.Network.to(DEVICE)\n",
        "\n",
        "    def get_action(self, state, episode=500): \n",
        "        # ε-greedy法で徐々に最適行動のみを採用する\n",
        "        epsilon = 0.5 * (1 / (episode + 1))\n",
        "        state = make_3d(state)\n",
        "        if epsilon <= np.random.uniform(0, 1):\n",
        "            self.Network.eval()  # ネットワークを推論モードに切り替える\n",
        "            with torch.no_grad():\n",
        "                Q_values = self.Network( torch.tensor( state, dtype=torch.float ).to(DEVICE) )\n",
        "                action = Q_values.argmax().cpu().detach().numpy()\n",
        "                #m = Categorical( F.softmax(Q_values) )\n",
        "                #action = m.sample().detach().numpy()[0]\n",
        "        else:\n",
        "            action = np.random.choice( 64 )   # 0-63 の行動をランダムに返す\n",
        "            action = np.array(action)\n",
        "        return action"
      ],
      "execution_count": 19,
      "outputs": []
    },
    {
      "cell_type": "code",
      "metadata": {
        "id": "anuGiHf_tiro"
      },
      "source": [
        "# 対戦相手\n",
        "# 置ける場所にランダムに置いていく\n",
        "\n",
        "class Random_Player:\n",
        "    def __init__(self):\n",
        "        pass\n",
        "    \n",
        "    def get_action(self, board):\n",
        "        puttables = self.check(board)    #print(\"CPU puttables\", puttables)\n",
        "        basho = random.choice(puttables) #print(\"CPUs action\", action)\n",
        "        action = 8 * basho[1] + basho[0] #basho=(x, y)の時、action=8*y+x なので、(x, y)=(action%8, action//8) \n",
        "        return action\n",
        "    \n",
        "    def check(self, board): #今回の手番の人が打てる場所をリストアップする\n",
        "        okeru_list = []\n",
        "        for x in range(8):\n",
        "            for y in range(8):\n",
        "                plc = board[y, x]\n",
        "                if plc == 0: #もし今回のplaceに何も置いていなければ8方向探索する\n",
        "                    able = self.octpass([x,y], board) #今回の場所に置いたときひっくり返せる場所をリストアップする\n",
        "                    if len(able) > 0: #もしひっくり返せる場所が0ではないなら置ける場所リストに今回の場所を追加する\n",
        "                        okeru_list.append([x,y])\n",
        "        return okeru_list\n",
        "    \n",
        "    def octpass(self, basho, board): #今回置きたい場所を渡したら８方向探索するメソッド\n",
        "        basho_list = set() #今回ひっくり返せる場所のリスト(setクラスを使う→重複なしで扱える)\n",
        "\n",
        "        if board[basho[1], basho[0]] != 0:\n",
        "            pass #print('既に石が置かれています')\n",
        "        else:\n",
        "            for x in [-1,0,1]:\n",
        "                for y in [-1,0,1]: #8方向を順に見ていく\n",
        "                    tmp = [] #今回の確認する方向でひっくり返そうな場所を一時的に記憶しておくリスト\n",
        "\n",
        "                    if x == 0 and y == 0:\n",
        "                        pass #方向がないときはパスする\n",
        "\n",
        "                    for length in range(1,9): #今回確認する方向にだんだん腕を伸ばしていく\n",
        "                        if 0<=basho[1]+y*length<=7 and 0<=basho[0]+x*length<=7: #腕が盤面に収まるのなら\n",
        "                            check_plc = board[basho[1]+y*length, basho[0]+x*length]\n",
        "                            if check_plc == 0: #もし確認した場所に何も置いていなければ、飛び石になっちゃうので手を伸ばすのを終了\n",
        "                                break\n",
        "                            elif check_plc == -1: #もし確認した場所が相手プレイヤーの石だった場合その場所を一時記憶しておく\n",
        "                                tmp.append( (basho[0]+x*length, basho[1]+y*length) )\n",
        "                            elif check_plc == 1: #もし確認した場所が自分の石だった場合、ひっくり返せるリストに現在ひっくり返せそうな場所を追加して腕を伸ばすのをやめる\n",
        "                                if len(tmp) > 0: #中身がからでない場合のみ\n",
        "                                    basho_list |= set(tmp)\n",
        "                                break #手を伸ばすのを終了\n",
        "\n",
        "                        else: #もし盤面を飛び出してしまうならpassする\n",
        "                            pass\n",
        "        return list(basho_list)"
      ],
      "execution_count": 7,
      "outputs": []
    },
    {
      "cell_type": "code",
      "metadata": {
        "id": "a_6T4fAHtaKD"
      },
      "source": [
        "# オセロ自体のクラス\n",
        "# 盤面を持っており、石をおくとひっくり返す\n",
        "# もしすでに置いてある場所や不適切な場所に置いた場合、空のリストを返す\n",
        "\n",
        "class OTHELLO:\n",
        "    def __init__(self, player_color='B'):\n",
        "        self.player = player_color\n",
        "\n",
        "        # 差し手の色が1, 相手(CPU)の色が-1\n",
        "        self.board = np.zeros((8,8)).astype(np.int8)\n",
        "        self.board[3,4] = self.board[4,3] = -1\n",
        "        self.board[3,3] = self.board[4,4] = 1\n",
        "        if self.player == 'W': #もし差し手が白なら1, -1を反転する\n",
        "            self.board *= -1\n",
        "    \n",
        "    def put(self, basho, player='human'):\n",
        "        # basho = (x, y) の形式\n",
        "        # 盤面の\"basho\"の位置を確認して、正しい手であったなら石を置いてひっくり返し、新たな盤面を返す\n",
        "        # 不適切な手であった場合、空のリストを返す\n",
        "\n",
        "        if self.board[ basho[1], basho[0] ] != 0: #既に石が置いてある場合、空のリストを返す\n",
        "            return [] #print('すでにおいてあります')\n",
        " \n",
        "        if player != 'human':\n",
        "            self.board*=-1 # もし差し手がCPUの場合、敵味方のラベルを入れ替える\n",
        "\n",
        "        reversibles = self.octpass(basho)\n",
        "        if reversibles: #ひっくり返せる場所があるなら、その場所に石を置いてひっくり返していく\n",
        "            self.board[basho[1], basho[0]] = 1\n",
        "            for reversible_basho in reversibles:\n",
        "                self.board[reversible_basho[1], reversible_basho[0]] = 1\n",
        "            if player != 'human':\n",
        "                self.board*=-1 # もし差し手がCPUの場合、敵味方のラベルを入れ替え直す\n",
        "            return self.board\n",
        "\n",
        "        else: # もしひっくり返せる場所においてなかった場合、石をおかないで空のリストを返す\n",
        "            if player != 'human':\n",
        "                self.board*=-1 # もし差し手がCPUの場合、敵味方のラベルを入れ替え直す\n",
        "            return []\n",
        "        \n",
        "          \n",
        "    def check(self, player='human'):\n",
        "        # 盤面を渡すと、今回置ける場所を返してくれる\n",
        "        # 0が置いてない場所、1が自分の意思がある場所、-1が相手の石が置いてある場所\n",
        "        okeru_list = []\n",
        "        if player != 'human':\n",
        "            self.board*=-1\n",
        "        for x in range(8):\n",
        "            for y in range(8):\n",
        "                plc = self.board[y, x]\n",
        "                if plc == 0: #もし今回のplaceに何も置いていなければ8方向探索する\n",
        "                    able = self.octpass([x,y]) #今回の場所に置いたときひっくり返せる場所をリストアップする\n",
        "                    if len(able) > 0: #もしひっくり返せる場所が0ではないなら置ける場所リストに今回の場所を追加する\n",
        "                        okeru_list.append([x,y])\n",
        "        if player != 'human':\n",
        "            self.board*=-1\n",
        "        return okeru_list\n",
        "  \n",
        "    def octpass(self, basho): \n",
        "        # 今回置きたい場所を渡したら８方向探索するメソッド\n",
        "        # 今回ひっくり返せる場所が帰ってくる\n",
        "        basho_list = set() #今回ひっくり返せる場所のリスト(setクラスを使う→重複なしで扱える)\n",
        "\n",
        "        if self.board[basho[1], basho[0]] != 0:\n",
        "            #print('既に石が置かれています')\n",
        "            pass\n",
        "        else:\n",
        "            for x in [-1,0,1]:\n",
        "                for y in [-1,0,1]: #8方向を順に見ていく\n",
        "                    tmp = [] #今回の確認する方向でひっくり返そうな場所を一時的に記憶しておくリスト\n",
        "\n",
        "                    if x == 0 and y == 0:\n",
        "                        pass #方向がないときはパスする\n",
        "\n",
        "                    for length in range(1,9): #今回確認する方向にだんだん腕を伸ばしていく\n",
        "                        if 0<=basho[1]+y*length<=7 and 0<=basho[0]+x*length<=7: #腕が盤面に収まるのなら\n",
        "                            check_plc = self.board[ basho[1]+y*length, basho[0]+x*length ]\n",
        "                            if check_plc == 0: #もし確認した場所に何も置いていなければ、飛び石になっちゃうので手を伸ばすのを終了\n",
        "                                break\n",
        "                            elif check_plc == -1: #もし確認した場所が相手プレイヤーの石だった場合その場所を一時記憶しておく\n",
        "                                tmp.append( (basho[0]+x*length, basho[1]+y*length) )\n",
        "                            elif check_plc == 1: #もし確認した場所が自分の石だった場合、ひっくり返せるリストに現在ひっくり返せそうな場所を追加して腕を伸ばすのをやめる\n",
        "                                if len(tmp) > 0: #中身がからでない場合のみ\n",
        "                                    basho_list |= set(tmp)\n",
        "                                break #手を伸ばすのを終了\n",
        "\n",
        "                        else: #もし盤面を飛び出してしまうならpassする\n",
        "                            pass\n",
        "        return list(basho_list)"
      ],
      "execution_count": 8,
      "outputs": []
    },
    {
      "cell_type": "code",
      "metadata": {
        "id": "e-l5gcFFSgpD"
      },
      "source": [
        "# オセロを実行するタスク本体\n",
        "# オセロゲーム自体と、対戦相手(CPU)を持つ\n",
        "\n",
        "# Instance.reset() メソッドで初期化\n",
        "# state_next, reward, done, info = Instance.step( action )\n",
        "# 上記のようにcart poleのように使える\n",
        "# infoは形だけで中身は  \"自分に打てる手がある かつ 相手が打てる手がない\"　の判断として使ってる \n",
        "\n",
        "# Human-Playerが先手の場合、player_color='B'\n",
        "# Human-Playerが後手の場合、player_color='W'\n",
        "# で設定する\n",
        "\n",
        "class OTHELLO_Task:\n",
        "    def __init__(self, player_color='B', view_board=False):\n",
        "        self.player_color = player_color\n",
        "        self.view_board = view_board\n",
        "\n",
        "        self.GAME = OTHELLO(player_color=self.player_color)\n",
        "\n",
        "        if CPU_MODEL_PATH==\"random\":\n",
        "            self.CPU_Player = Random_Player()\n",
        "        else:\n",
        "            self.CPU_Player = CPU_Agent()\n",
        "        self.Support_CPU_Player = Random_Player() #ルール外の手を打ったときに代わりに正しいところにランダムに打つ\n",
        "    \n",
        "    def reset(self):\n",
        "        self.GAME = OTHELLO(player_color=self.player_color)\n",
        "        state_next = self.GAME.board\n",
        "        if self.player_color == 'W':\n",
        "            # もし人間が後手(白)だった場合、CPUに初めの一手を打たせる\n",
        "            state_next, reward, done, info = self.step_cpu()\n",
        "        return state_next\n",
        "\n",
        "    \n",
        "    def step(self, action):\n",
        "        # step_humanとstep_cpuを両方行い、最終的なState_nextを返す\n",
        "        # done : どちらもおくことができない状態 = ゲーム終了\n",
        "        # info : 自分は置くことができるが、相手は置くことができない状態 = 連続手番\n",
        "        state_next, reward, done, info = self.step_human(action)\n",
        "        if done or info: #　ゲーム終了 or CPUの置く場所がない なら現在のReward, State_nextを返す\n",
        "            return state_next, reward, done, info\n",
        "        else: # ゲーム終了でなく、CPUに置ける場所がある場合、CPUが石を置く\n",
        "            info = True \n",
        "            while info: # CPUに置ける場所があって、人間側に置けるところがない場合\n",
        "                state_next, reward_, done, info = self.step_cpu()\n",
        "            return state_next, reward+reward_, done, info\n",
        "            \n",
        "    \n",
        "    def step_human(self, action): \n",
        "        basho = ( action%8, action//8 ) #actionは0-63なので(8,8)の二次元に変換する\n",
        "\n",
        "        if self.view_board:\n",
        "            state = self.GAME.board\n",
        "            print(\"\\n Humans state Input !!!!!!!!!!!!!!!!!\")\n",
        "            plt_img(state=state)\n",
        "            print('Humans Action :', basho)\n",
        "\n",
        "        state_next = self.GAME.put(basho, player='human')\n",
        "        info = False\n",
        "        reward = 0\n",
        "\n",
        "        if len(state_next) ==0: # 自分が間違えた場所に置いた場合  state_next=[]になるのはミスした時だけ\n",
        "            # Support_CPUがランダムに置ける場所に置いてくれる\n",
        "            print('you missed')\n",
        "            MISS_count.append(1)\n",
        "            state = self.GAME.board \n",
        "            action = self.Support_CPU_Player.get_action( state )\n",
        "            basho = ( action%8, action//8 ) #actionは0-63なので(8,8)の二次元に変換する\n",
        "            state_next = self.GAME.put(basho, player='human')\n",
        "\n",
        "            reward = -1*PENALTY\n",
        "            done = False\n",
        "            info = False\n",
        "\n",
        "        if self.GAME.check(player='cpu'): \n",
        "            # 人間が打った後の盤面で、CPUに打てる手がある場合\n",
        "            done = False\n",
        "        else: #相手(CPU)に置ける場所がなかった場合\n",
        "            if self.GAME.check(player='human'): \n",
        "                # 自分に置ける場所があるなら\n",
        "                info = True #相手番はpass\n",
        "                done = False\n",
        "            else:\n",
        "                #自分にも置ける場所がないなら\n",
        "                done = True\n",
        "                if sum(sum(self.GAME.board)) > 0: #自分の石の方が多いなら\n",
        "                    reward = 1\n",
        "                else:\n",
        "                    reward = -1\n",
        "        return state_next, reward, done, info\n",
        "    \n",
        "    def step_cpu(self):\n",
        "        state = self.GAME.board\n",
        "        action = self.CPU_Player.get_action( -1*state )\n",
        "        basho = ( action%8, action//8 ) #actionは0-63なので(8,8)の二次元に変換する\n",
        "\n",
        "        if self.view_board:\n",
        "            print(\"\\n CPUs state Input !!!!!!!!!!!!!!!!!\")\n",
        "            plt_img(state=state)\n",
        "            print('CPUs Action :', basho)\n",
        "\n",
        "        state_next = self.GAME.put(basho, player='cpu')\n",
        "        info = False\n",
        "        reward = 0\n",
        "\n",
        "        if len(state_next) ==0: # CPUが間違えた場所に置いた場合  state_next=[]になるのはミスした時だけ\n",
        "            # Support_CPUがランダムに置ける場所に置いてくれる\n",
        "            print('cpu missed')\n",
        "            print(basho)\n",
        "            MISS_count_CPU.append(1)\n",
        "            state = self.GAME.board \n",
        "            action = self.Support_CPU_Player.get_action( -1*state )\n",
        "            basho = ( action%8, action//8 ) #actionは0-63なので(8,8)の二次元に変換する\n",
        "            state_next = self.GAME.put(basho, player='cpu')\n",
        "\n",
        "            #reward = -1*PENALTY\n",
        "            done = False\n",
        "            info = False\n",
        "\n",
        "        if self.GAME.check(player='human'): \n",
        "            # CPUが打った後の盤面で、人間に打てる手がある場合\n",
        "            done = False\n",
        "        else: #相手(人間)に置ける場所がなかった場合\n",
        "            if self.GAME.check(player='cpu'): \n",
        "                # 自分(CPU)に置ける場所があるなら\n",
        "                info = True #相手番はpass\n",
        "                done = False\n",
        "            else:\n",
        "                #自分にも置ける場所がないなら\n",
        "                done = True\n",
        "                if sum(sum(self.GAME.board)) > 0: #人間側の石の方が多いなら\n",
        "                    reward = 1\n",
        "                else:\n",
        "                    reward = -1\n",
        "        return state_next, reward, done, info"
      ],
      "execution_count": 57,
      "outputs": []
    },
    {
      "cell_type": "markdown",
      "metadata": {
        "id": "g0fqHXGuthsK"
      },
      "source": [
        "# Training Environment"
      ]
    },
    {
      "cell_type": "code",
      "metadata": {
        "id": "KhSaaOvrS_Gj"
      },
      "source": [
        "def plt_img(state):\n",
        "    fig, axes= plt.subplots(1, 1)\n",
        "    back_color = np.ones((8,8))*150 #いい緑色を出すための数字笑\n",
        "    sns.heatmap(back_color, square = True, ax = axes, cmap='Greens', linewidths=0.3, cbar=False, vmin=0,vmax=255)\n",
        "    for y in range(8):\n",
        "        for x in range(8):\n",
        "            st = state[y][x]\n",
        "            color='k'\n",
        "            if st != 0:\n",
        "                if st==-1:\n",
        "                    fc, ec = 'w', 'k' \n",
        "                elif st==1:\n",
        "                    fc, ec = 'k', 'w'\n",
        "                    color='w'\n",
        "                c = pat.Circle(xy = (x+0.5, y+0.5), radius=0.4, fc=fc, ec=ec, fill = True)\n",
        "                axes.add_artist(c)\n",
        "            #axes.text(x+0.25, y+0.75, f\"({x},{y})\", size=8, color=color, fontweight='bold')\n",
        "            axes.text(x+0.25, y+0.75, f\"{8*y+x}\", size=8, color=color, fontweight='bold')\n",
        "    plt.show()\n",
        "\n",
        "def make_3d(state):\n",
        "    state_all = (state > 0 ).astype(np.uint8)\n",
        "    state_opp = (state == -1).astype(np.uint8)\n",
        "    state_my  = (state == 1).astype(np.uint8)\n",
        "    return np.stack( [[state_all, state_opp, state_my]] ).reshape(1,3,8,8)"
      ],
      "execution_count": 207,
      "outputs": []
    },
    {
      "cell_type": "code",
      "metadata": {
        "id": "92Q2VgVVsd0j"
      },
      "source": [
        "class Environment():\n",
        "    def __init__(self):\n",
        "        self.Task  = OTHELLO_Task(player_color=PLAYER_COLOR , view_board=False)\n",
        "        self.Agent = Agent()\n",
        "        #self.Agent = Random_Player()\n",
        "    \n",
        "    def run_one_episode(self, episode):\n",
        "        # 勝敗がつくまでが1episode  \n",
        "        t = 0\n",
        "        state = self.Task.reset() # 各episodeの最初にTaskをリセット\n",
        "        state = make_3d(state)    # モデルに合わせて3次元に\n",
        "        reword = 0\n",
        "        win = 0\n",
        "\n",
        "        while True:\n",
        "            action  = self.Agent.get_action(state)\n",
        "            #state_next, reword, done, info = self.Task.step(action.item()) #Action_tを場面に渡してState_t+1, Reword_tを受け取る\n",
        "            state_next, reword, done, info = self.Task.step(action)\n",
        "            if state_next is not None:\n",
        "                state_next = make_3d(state_next)    # モデルに合わせて3次元に\n",
        "            \n",
        "            # 結果の記録とモデルの更新\n",
        "            if TRAIN_MODEL:\n",
        "                self.Agent.memorize(state, action, reword, state_next)\n",
        "                self.Agent.update_Network(BATCH_SIZE)\n",
        "\n",
        "            state = state_next\n",
        "            t += 1\n",
        "\n",
        "            if done:\n",
        "                #print(\"\\n 最終盤面\")\n",
        "                #plt_img(state=self.Task.GAME.board)\n",
        "                break\n",
        "        win = int(reword > 0)\n",
        "        return t, reword, win\n",
        "    \n",
        "    def train(self):\n",
        "        WIN        = []\n",
        "        MISSES     = []\n",
        "        MISSES_CPU = []\n",
        "        times = 0\n",
        "        episode = 0\n",
        "        global MISS_count\n",
        "        global MISS_count_CPU\n",
        "        for i in tqdm(range(MAX_ITER)): \n",
        "            MISS_count     = [0]  \n",
        "            MISS_count_CPU = [0]\n",
        "\n",
        "            times, reward, win = self.run_one_episode(episode)\n",
        "            MISSES.append( 100*sum( MISS_count) /times )\n",
        "            MISSES_CPU.append( 100*sum( MISS_count_CPU) /times )\n",
        "\n",
        "            #print('episode :', episode)\n",
        "            #print(\"miss%\", 100*sum( MISS_count) /times )\n",
        "            #print(\"Reward\", reward)\n",
        "            #print('='*30, \"\\n\")\n",
        "            \n",
        "            episode += 1\n",
        "            WIN.append(win)\n",
        "        return WIN, MISSES, MISSES_CPU"
      ],
      "execution_count": 11,
      "outputs": []
    },
    {
      "cell_type": "code",
      "metadata": {
        "colab": {
          "base_uri": "https://localhost:8080/",
          "height": 151,
          "referenced_widgets": [
            "8dc01f045081437398efe60b987d7907",
            "2c599bbdd6144db699e290ece601c80a",
            "4e27ed32a68d484fb9d8373c8fe99bb5",
            "6c9ce43a31664bfd967c75d051ba0ad9",
            "85bdbffa24fb4f5584a8d1ddcb50befa",
            "8554c9ea34c54a59926d6b2855025c17",
            "2c3cea9a8b1a4a8691be38a7150cb6e5",
            "4e519278bc0245b59f00e04a83093335"
          ]
        },
        "id": "PS1M4H4CKPQl",
        "outputId": "397375f4-48bb-440b-86ec-a5a4757ca70f"
      },
      "source": [
        "%%time\n",
        "GAMMA         = 0.99\n",
        "RL            = 1e-6\n",
        "GClip         = 3e-6\n",
        "SCH_STEP_SIZE = 32*5\n",
        "SCH_GAMMA     = 0.9\n",
        "PENALTY = 0.3 # ミスしたときにrewardを減らす\n",
        "\n",
        "\n",
        "CAPACITY = 32*10 # Memoryで何行動分保存しておくか あまり古いやつ保存しておいてもしょうがないかと\n",
        "BATCH_SIZE = 32 # Batchの大きさ Memoryからこの大きさだけ取り出してReplayする\n",
        "MAX_ITER = 100\n",
        "\n",
        "TRAIN_MODEL = False\n",
        "PLAYER_COLOR = 'B'\n",
        "\n",
        "MODEL_PATH     = \"/content/drive/MyDrive/OTHELLO/SL_models/SL_Network_1_epoch_12.pth\"\n",
        "CPU_MODEL_PATH = \"/content/drive/MyDrive/OTHELLO/SL_models/SL_Network_1_epoch_12.pth\"\n",
        "#CPU_MODEL_PATH = \"random\"\n",
        "\n",
        "\n",
        "MISS_count = [0]\n",
        "MISS_count_CPU = [0]\n",
        "DEVICE = 'cpu'\n",
        "\n",
        "AAA = Environment()\n",
        "WIN, MISSES, MISSES_CPU = AAA.train()\n",
        "\n",
        "print(f\"Win Percentage {100*sum(WIN)/len(WIN)} %\", )\n",
        "print(f\"Avarage Human MISS {np.mean(MISSES)} %\" )\n",
        "print(f\"Avarage  CPU  MISS {np.mean(MISSES_CPU)} %\" )"
      ],
      "execution_count": 27,
      "outputs": [
        {
          "output_type": "display_data",
          "data": {
            "application/vnd.jupyter.widget-view+json": {
              "model_id": "8dc01f045081437398efe60b987d7907",
              "version_minor": 0,
              "version_major": 2
            },
            "text/plain": [
              "HBox(children=(FloatProgress(value=0.0), HTML(value='')))"
            ]
          },
          "metadata": {
            "tags": []
          }
        },
        {
          "output_type": "stream",
          "text": [
            "\n",
            "Win Percentage 44.0 %\n",
            "Avarage Human MISS 11.719194938820912 %\n",
            "Avarage  CPU  MISS 19.107354341524257 %\n",
            "CPU times: user 18.3 s, sys: 186 ms, total: 18.4 s\n",
            "Wall time: 18.6 s\n"
          ],
          "name": "stdout"
        }
      ]
    },
    {
      "cell_type": "code",
      "metadata": {
        "colab": {
          "base_uri": "https://localhost:8080/",
          "height": 282
        },
        "id": "v-eauXjKk1jD",
        "outputId": "fa0d8f04-86d2-46ee-f116-a82abe39988d"
      },
      "source": [
        "WIN_mean = []\n",
        "window = 30\n",
        "\n",
        "for i in range(len(WIN)-window):\n",
        "    ten_kekka = WIN[i:i+window]\n",
        "    WIN_mean.append(100 * np.mean(ten_kekka))\n",
        "\n",
        "X = range(len(WIN_mean))\n",
        "plt.plot( X, WIN_mean )\n",
        "plt.ylabel(\"Win  %\")"
      ],
      "execution_count": 28,
      "outputs": [
        {
          "output_type": "execute_result",
          "data": {
            "text/plain": [
              "Text(0, 0.5, 'Win  %')"
            ]
          },
          "metadata": {
            "tags": []
          },
          "execution_count": 28
        },
        {
          "output_type": "display_data",
          "data": {
            "image/png": "[encoded data removed]",
            "text/plain": [
              "<Figure size 432x288 with 1 Axes>"
            ]
          },
          "metadata": {
            "tags": [],
            "needs_background": "light"
          }
        }
      ]
    },
    {
      "cell_type": "code",
      "metadata": {
        "colab": {
          "base_uri": "https://localhost:8080/",
          "height": 282
        },
        "id": "ds1DRP3alnH1",
        "outputId": "b12abd2a-7f03-4e1d-acb9-4e8dc13d4f6c"
      },
      "source": [
        "MISSES_mean = []\n",
        "window = 30\n",
        "\n",
        "for i in range(len(MISSES)-window):\n",
        "    ten_kekka = MISSES[i:i+window]\n",
        "    MISSES_mean.append(np.mean(ten_kekka))\n",
        "\n",
        "X = range(len(MISSES_mean))\n",
        "plt.plot( X, MISSES_mean )\n",
        "plt.ylabel(\"Miss  %\")"
      ],
      "execution_count": 29,
      "outputs": [
        {
          "output_type": "execute_result",
          "data": {
            "text/plain": [
              "Text(0, 0.5, 'Miss  %')"
            ]
          },
          "metadata": {
            "tags": []
          },
          "execution_count": 29
        },
        {
          "output_type": "display_data",
          "data": {
            "image/png": "[encoded data removed]",
            "text/plain": [
              "<Figure size 432x288 with 1 Axes>"
            ]
          },
          "metadata": {
            "tags": [],
            "needs_background": "light"
          }
        }
      ]
    },
    {
      "cell_type": "code",
      "metadata": {
        "colab": {
          "base_uri": "https://localhost:8080/",
          "height": 282
        },
        "id": "wPCy2EQ3Gbfh",
        "outputId": "b141a5d4-4d17-4789-e685-5b39a1bfe402"
      },
      "source": [
        "MISSES_mean = []\n",
        "window = 30\n",
        "\n",
        "for i in range(len(MISSES_CPU)-window):\n",
        "    ten_kekka = MISSES_CPU[i:i+window]\n",
        "    MISSES_mean.append(np.mean(ten_kekka))\n",
        "\n",
        "X = range(len(MISSES_mean))\n",
        "plt.plot( X, MISSES_mean )\n",
        "plt.ylabel(\"Miss_CPU  %\")"
      ],
      "execution_count": 30,
      "outputs": [
        {
          "output_type": "execute_result",
          "data": {
            "text/plain": [
              "Text(0, 0.5, 'Miss_CPU  %')"
            ]
          },
          "metadata": {
            "tags": []
          },
          "execution_count": 30
        },
        {
          "output_type": "display_data",
          "data": {
            "image/png": "[encoded data removed]",
            "text/plain": [
              "<Figure size 432x288 with 1 Axes>"
            ]
          },
          "metadata": {
            "tags": [],
            "needs_background": "light"
          }
        }
      ]
    },
    {
      "cell_type": "code",
      "metadata": {
        "id": "c3kOHCmPCC41"
      },
      "source": [
        "torch.save( AAA.Agent.Network.state_dict(), \"/content/drive/MyDrive/OTHELLO/SL_models/SL_Network_1_epoch_10-1.pth\" )"
      ],
      "execution_count": null,
      "outputs": []
    },
    {
      "cell_type": "markdown",
      "metadata": {
        "id": "pNRb3CwyAVHk"
      },
      "source": [
        "# お試しプレイ"
      ]
    },
    {
      "cell_type": "code",
      "metadata": {
        "colab": {
          "base_uri": "https://localhost:8080/",
          "height": 564
        },
        "id": "gLi-Znv5AWzM",
        "outputId": "d526cbed-8e31-4abd-958f-2553251f0d64"
      },
      "source": [
        "#CPU_MODEL_PATH = \"/content/drive/MyDrive/OTHELLO/SL_models/SL_Network_1_epoch_12.pth\"\n",
        "CPU_MODEL_PATH = \"/content/drive/MyDrive/OTHELLO/SL_models/SLpn_conv4_bn_mini_30.pth\"\n",
        "AAA = OTHELLO_Task(player_color='W' , view_board=True)\n",
        "S = AAA.reset()\n",
        "plt_img(S)"
      ],
      "execution_count": 214,
      "outputs": [
        {
          "output_type": "stream",
          "text": [
            "\n",
            " CPUs state Input !!!!!!!!!!!!!!!!!\n"
          ],
          "name": "stdout"
        },
        {
          "output_type": "display_data",
          "data": {
            "image/png": "[encoded data removed]",
            "text/plain": [
              "<Figure size 432x288 with 1 Axes>"
            ]
          },
          "metadata": {
            "tags": [],
            "needs_background": "light"
          }
        },
        {
          "output_type": "stream",
          "text": [
            "CPUs Action : (5, 3)\n"
          ],
          "name": "stdout"
        },
        {
          "output_type": "display_data",
          "data": {
            "image/png": "[encoded data removed]",
            "text/plain": [
              "<Figure size 432x288 with 1 Axes>"
            ]
          },
          "metadata": {
            "tags": [],
            "needs_background": "light"
          }
        }
      ]
    },
    {
      "cell_type": "code",
      "metadata": {
        "colab": {
          "base_uri": "https://localhost:8080/",
          "height": 863
        },
        "id": "p-qiU-EyAgmw",
        "outputId": "4c3b75f7-d5f1-4949-8d0e-a234d871104f"
      },
      "source": [
        "action = 37\n",
        "S = AAA.step(action)\n",
        "plt_img(S[0])"
      ],
      "execution_count": 215,
      "outputs": [
        {
          "output_type": "stream",
          "text": [
            "\n",
            " Humans state Input !!!!!!!!!!!!!!!!!\n"
          ],
          "name": "stdout"
        },
        {
          "output_type": "display_data",
          "data": {
            "image/png": "[encoded data removed]",
            "text/plain": [
              "<Figure size 432x288 with 1 Axes>"
            ]
          },
          "metadata": {
            "tags": [],
            "needs_background": "light"
          }
        },
        {
          "output_type": "stream",
          "text": [
            "Humans Action : (5, 4)\n",
            "\n",
            " CPUs state Input !!!!!!!!!!!!!!!!!\n"
          ],
          "name": "stdout"
        },
        {
          "output_type": "display_data",
          "data": {
            "image/png": "[encoded data removed]",
            "text/plain": [
              "<Figure size 432x288 with 1 Axes>"
            ]
          },
          "metadata": {
            "tags": [],
            "needs_background": "light"
          }
        },
        {
          "output_type": "stream",
          "text": [
            "CPUs Action : (5, 5)\n"
          ],
          "name": "stdout"
        },
        {
          "output_type": "display_data",
          "data": {
            "image/png": "[encoded data removed]",
            "text/plain": [
              "<Figure size 432x288 with 1 Axes>"
            ]
          },
          "metadata": {
            "tags": [],
            "needs_background": "light"
          }
        }
      ]
    }
  ]
}