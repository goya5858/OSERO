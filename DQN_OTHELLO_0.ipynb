{
  "nbformat": 4,
  "nbformat_minor": 0,
  "metadata": {
    "colab": {
      "name": "DQN_OTHELLO_0.ipynb",
      "provenance": [],
      "collapsed_sections": [],
      "mount_file_id": "1D70SAnofOSucwboU6ZMaZhPVa6cp5s6i",
      "authorship_tag": "ABX9TyN26114zoIuNoVro1nfikRc",
      "include_colab_link": true
    },
    "kernelspec": {
      "name": "python3",
      "display_name": "Python 3"
    },
    "language_info": {
      "name": "python"
    },
    "accelerator": "GPU"
  },
  "cells": [
    {
      "cell_type": "markdown",
      "metadata": {
        "id": "view-in-github",
        "colab_type": "text"
      },
      "source": [
        "<a href=\"https://colab.research.google.com/github/goya5858/OSERO/blob/main/DQN_OTHELLO_0.ipynb\" target=\"_parent\"><img src=\"https://colab.research.google.com/assets/colab-badge.svg\" alt=\"Open In Colab\"/></a>"
      ]
    },
    {
      "cell_type": "code",
      "metadata": {
        "id": "_3q0ri9irrIz"
      },
      "source": [
        "import torch\n",
        "import torch.nn as nn\n",
        "import torch.nn.functional as F\n",
        "import torch.optim as optim\n",
        "from torch.distributions import Categorical\n",
        "import torch.multiprocessing as mp\n",
        "import time\n",
        "\n",
        "import copy\n",
        "\n",
        "import random\n",
        "\n",
        "import numpy as np\n",
        "import pandas as pd\n",
        "import matplotlib.pyplot as plt\n",
        "\n",
        "import gym\n",
        "import numpy as np\n",
        "import matplotlib.pyplot as plt\n",
        "from torch.nn import functional as F"
      ],
      "execution_count": 1,
      "outputs": []
    },
    {
      "cell_type": "markdown",
      "metadata": {
        "id": "MYQW6h6ntWps"
      },
      "source": [
        "# Agent"
      ]
    },
    {
      "cell_type": "code",
      "metadata": {
        "id": "pakVIxsPYpfI"
      },
      "source": [
        "class CNN_Brain(nn.Module):\n",
        "    def __init__(self):\n",
        "        super().__init__()\n",
        "        self.relu = nn.ReLU()\n",
        "\n",
        "        self.bn1 = nn.BatchNorm2d(32)\n",
        "        self.bn2 = nn.BatchNorm2d(32)\n",
        "        self.bn3 = nn.BatchNorm2d(64)\n",
        "        self.bn4 = nn.BatchNorm2d(64)\n",
        "\n",
        "        self.conv1 = nn.Conv2d(3, 32, 3, padding=1)\n",
        "        self.conv2 = nn.Conv2d(32, 32, 3, padding=1)\n",
        "        self.conv3 = nn.Conv2d(32, 64, 3, padding=1)\n",
        "        self.conv4 = nn.Conv2d(64, 64, 3, padding=1)\n",
        "\n",
        "        self.flatten = nn.Flatten()\n",
        "\n",
        "        self.fc1 = nn.Linear(64*8*8, 64)\n",
        "\n",
        "    def forward(self, x):\n",
        "        x = self.relu(self.bn1(self.conv1(x)))\n",
        "        x = self.relu(self.bn2(self.conv2(x)))\n",
        "        x = self.relu(self.bn3(self.conv3(x)))\n",
        "        x = self.relu(self.bn4(self.conv4(x)))\n",
        "        x = self.flatten(x)\n",
        "        x = self.fc1(x)\n",
        "        return x"
      ],
      "execution_count": 3,
      "outputs": []
    },
    {
      "cell_type": "code",
      "metadata": {
        "id": "iEEPD26SYqHt"
      },
      "source": [
        "from collections import namedtuple\n",
        "Transition = namedtuple('Transition', ('state', 'action', 'reward', 'state_next'))\n",
        "\n",
        "class Agent_Memory():\n",
        "    def __init__(self):\n",
        "        self.capacity = CAPACITY #メモリの大きさ\n",
        "        self.memory = []\n",
        "        self.index = 0\n",
        "\n",
        "    def sample(self, BATCH_SIZE):\n",
        "        '''batch_size分だけ、ランダムに保存内容を取り出す'''\n",
        "        if len(self.memory) < BATCH_SIZE:\n",
        "            BATCH_SIZE = len(self.memory)\n",
        "\n",
        "        transitions = random.sample(self.memory, BATCH_SIZE) #BATCH_SIZEの分だけランダムにデータを取り出す\n",
        "        BATCH = Transition(*zip(*transitions)) #State, Action, Reward, State_Nextの各要素ごとにまとめ直す\n",
        "\n",
        "        State_BATCH      = torch.tensor( np.concatenate( BATCH.state, axis=0 ) ,dtype=torch.float)\n",
        "        Action_BATCH     = torch.tensor( np.stack( BATCH.action ) ,dtype=torch.int64)\n",
        "        Reward_BATCH     = torch.tensor( np.stack( BATCH.reward ) ,dtype=torch.float)\n",
        "        State_Next_BATCH = np.array( BATCH.state_next ) \n",
        "        non_final_mask   = [s is not None for s in State_Next_BATCH]\n",
        "        State_Next_BATCH = torch.tensor( np.concatenate(State_Next_BATCH[non_final_mask], axis=0 ) ,dtype=torch.float)\n",
        "        return State_BATCH, Action_BATCH, Reward_BATCH, State_Next_BATCH, non_final_mask\n",
        "\n",
        "    def put_memory(self, state, action, reward, state_next):\n",
        "        '''transition = (state, action, reward, state_next)をメモリに保存する'''\n",
        "        if len(self.memory) < self.capacity:\n",
        "            self.memory.append(None)  # メモリが満タンでないときは足す\n",
        "        self.memory[self.index] = Transition(state, action, reward, state_next)\n",
        "        self.index = (self.index + 1) % self.capacity  # 保存するindexを1つずらす"
      ],
      "execution_count": 21,
      "outputs": []
    },
    {
      "cell_type": "code",
      "metadata": {
        "id": "dr8OBm06A-wO"
      },
      "source": [
        "class Agent():\n",
        "    def __init__(self):\n",
        "        self.Network = CNN_Brain()\n",
        "        self.Network.load_state_dict( torch.load(\"/content/drive/MyDrive/OTHERO/SLpn_conv4_bn_mini_30.pth\") )\n",
        "        self.Memory  = Agent_Memory()\n",
        "        self.optim   = optim.Adam(self.Network.parameters(), lr=0.0001)\n",
        "\n",
        "    def get_action(self, state, episode): \n",
        "        # ε-greedy法で徐々に最適行動のみを採用する\n",
        "        epsilon = 0.5 * (1 / (episode + 1))\n",
        "        if epsilon <= np.random.uniform(0, 1):\n",
        "            self.Network.eval()  # ネットワークを推論モードに切り替える\n",
        "            with torch.no_grad():\n",
        "                Q_values = self.Network( torch.tensor( state, dtype=torch.float ) )\n",
        "                action = Q_values.argmax().detach().numpy()\n",
        "        else:\n",
        "            action = np.random.choice( 64 )   # 0-63 の行動をランダムに返す\n",
        "            action = np.array(action)\n",
        "        return action\n",
        "\n",
        "    def update_Network(self, BATCH_SIZE):\n",
        "        if len(self.Memory.memory) < BATCH_SIZE:\n",
        "            BATCH_SIZE = len(self.Memory.memory)\n",
        "        \n",
        "        if len(self.Memory.memory) < 2:\n",
        "            # memoryの長さが2未満の場合、State_NextのBATCHがNoneのみのため\n",
        "            return \n",
        "\n",
        "        # Memoryから学習用のデータをランダムに取り出す\n",
        "        State_BATCH, Action_BATCH, Reward_BATCH, State_Next_BATCH, non_final_mask = self.Memory.sample(BATCH_SIZE)\n",
        "        Q_values = self.Network(State_BATCH).gather(1, Action_BATCH.reshape(-1,1)) # Action_BATCHのshapeは(-1)ではなく、(-1,1)の二次元である必要がある\n",
        "        \n",
        "        next_Q_values = torch.zeros(BATCH_SIZE) #全部0で初期化しておいて、non_finalの場所だけ計算する\n",
        "        next_Q_values[non_final_mask] = self.Network(State_Next_BATCH).max(1)[0].detach()\n",
        "        # max()メソッドで最大値を計算した後、[0]で数値を取り出す必要がある, detach()で勾配を消しておく    \n",
        "\n",
        "        true_Q_values =  (Reward_BATCH + GAMMA * next_Q_values).unsqueeze(1)  #2次元配列に変換\n",
        "        loss = F.smooth_l1_loss(Q_values, true_Q_values)\n",
        "\n",
        "        self.optim.zero_grad()\n",
        "        loss.backward()\n",
        "        self.optim.step() \n",
        "    \n",
        "    def memorize(self, state, action, reward, state_next):\n",
        "        self.Memory.put_memory(state, action, reward, state_next)"
      ],
      "execution_count": 50,
      "outputs": []
    },
    {
      "cell_type": "markdown",
      "metadata": {
        "id": "JkxVf_iQtYpq"
      },
      "source": [
        "# Task"
      ]
    },
    {
      "cell_type": "code",
      "metadata": {
        "id": "anuGiHf_tiro"
      },
      "source": [
        "# 対戦相手\n",
        "# 置ける場所にランダムに置いていく\n",
        "\n",
        "class Random_Player:\n",
        "    def __init__(self):\n",
        "        pass\n",
        "    \n",
        "    def get_action(self, board):\n",
        "        puttables = self.check(board) #print(\"CPU puttables\", puttables)\n",
        "        action = random.choice(puttables) #print(\"CPUs action\", action)\n",
        "        action = 8 * action[1] + action[0]\n",
        "        return action\n",
        "    \n",
        "    def check(self, board): #今回の手番の人が打てる場所をリストアップする\n",
        "        okeru_list = []\n",
        "        for x in range(8):\n",
        "            for y in range(8):\n",
        "                plc = board[y, x]\n",
        "                if plc == 0: #もし今回のplaceに何も置いていなければ8方向探索する\n",
        "                    able = self.octpass([x,y], board) #今回の場所に置いたときひっくり返せる場所をリストアップする\n",
        "                    if len(able) > 0: #もしひっくり返せる場所が0ではないなら置ける場所リストに今回の場所を追加する\n",
        "                        okeru_list.append([x,y])\n",
        "        return okeru_list\n",
        "    \n",
        "    def octpass(self, basho, board): #今回置きたい場所を渡したら８方向探索するメソッド\n",
        "        basho_list = set() #今回ひっくり返せる場所のリスト(setクラスを使う→重複なしで扱える)\n",
        "\n",
        "        if board[basho[1], basho[0]] != 0:\n",
        "            pass #print('既に石が置かれています')\n",
        "        else:\n",
        "            for x in [-1,0,1]:\n",
        "                for y in [-1,0,1]: #8方向を順に見ていく\n",
        "                    tmp = [] #今回の確認する方向でひっくり返そうな場所を一時的に記憶しておくリスト\n",
        "\n",
        "                    if x == 0 and y == 0:\n",
        "                        pass #方向がないときはパスする\n",
        "\n",
        "                    for length in range(1,9): #今回確認する方向にだんだん腕を伸ばしていく\n",
        "                        if 0<=basho[1]+y*length<=7 and 0<=basho[0]+x*length<=7: #腕が盤面に収まるのなら\n",
        "                            check_plc = board[basho[1]+y*length, basho[0]+x*length]\n",
        "                            if check_plc == 0: #もし確認した場所に何も置いていなければ、飛び石になっちゃうので手を伸ばすのを終了\n",
        "                                break\n",
        "                            elif check_plc == -1: #もし確認した場所が相手プレイヤーの石だった場合その場所を一時記憶しておく\n",
        "                                tmp.append( (basho[0]+x*length, basho[1]+y*length) )\n",
        "                            elif check_plc == 1: #もし確認した場所が自分の石だった場合、ひっくり返せるリストに現在ひっくり返せそうな場所を追加して腕を伸ばすのをやめる\n",
        "                                if len(tmp) > 0: #中身がからでない場合のみ\n",
        "                                    basho_list |= set(tmp)\n",
        "                                break #手を伸ばすのを終了\n",
        "\n",
        "                        else: #もし盤面を飛び出してしまうならpassする\n",
        "                            pass\n",
        "        return list(basho_list)"
      ],
      "execution_count": 66,
      "outputs": []
    },
    {
      "cell_type": "code",
      "metadata": {
        "id": "a_6T4fAHtaKD"
      },
      "source": [
        "# オセロ自体のクラス\n",
        "# 盤面を持っており、石をおくとひっくり返す\n",
        "# もしすでに置いてある場所や不適切な場所に置いた場合、空のリストを返す\n",
        "\n",
        "class OTHELLO:\n",
        "    def __init__(self, player_color='B'):\n",
        "        self.player = player_color\n",
        "\n",
        "        # 差し手の色が1, 相手(CPU)の色が-1\n",
        "        self.board = np.zeros((8,8)).astype(np.int8)\n",
        "        self.board[3,4] = self.board[4,3] = -1\n",
        "        self.board[3,3] = self.board[4,4] = 1\n",
        "        if self.player == 'W': #もし差し手が白なら1, -1を反転する\n",
        "            self.board *= -1\n",
        "    \n",
        "    def put(self, basho, player='human'):\n",
        "        # 石をおいてひっくり返す     basho = (x, y) の形式\n",
        "\n",
        "        if self.board[ basho[1], basho[0] ] != 0:\n",
        "            return [] #print('すでにおいてあります')\n",
        " \n",
        "        if player != 'human':\n",
        "            self.board*=-1 # もし差し手がCPUの場合、敵味方のラベルを入れ替える\n",
        "\n",
        "        reversibles = self.octpass(basho)\n",
        "        if reversibles:\n",
        "            #空でないなら\n",
        "            self.board[basho[1], basho[0]] = 1\n",
        "            for reversible_basho in reversibles:\n",
        "                self.board[reversible_basho[1], reversible_basho[0]] = 1\n",
        "            if player != 'human':\n",
        "                self.board*=-1 # もし差し手がCPUの場合、敵味方のラベルを入れ替え直す\n",
        "            return self.board\n",
        "\n",
        "        else: # もしひっくり返せる場所においてなかった場合\n",
        "            if player != 'human':\n",
        "                self.board*=-1 # もし差し手がCPUの場合、敵味方のラベルを入れ替え直す\n",
        "            return []\n",
        "        \n",
        "          \n",
        "    def check(self, player='human'):\n",
        "        # 盤面を渡すと、今回置ける場所を返してくれる\n",
        "        # 0が置いてない場所、1が自分の意思がある場所、-1が相手の石が置いてある場所\n",
        "        okeru_list = []\n",
        "        if player != 'human':\n",
        "            self.board*=-1\n",
        "        for x in range(8):\n",
        "            for y in range(8):\n",
        "                plc = self.board[y, x]\n",
        "                if plc == 0: #もし今回のplaceに何も置いていなければ8方向探索する\n",
        "                    able = self.octpass([x,y]) #今回の場所に置いたときひっくり返せる場所をリストアップする\n",
        "                    if len(able) > 0: #もしひっくり返せる場所が0ではないなら置ける場所リストに今回の場所を追加する\n",
        "                        okeru_list.append([x,y])\n",
        "        if player != 'human':\n",
        "            self.board*=-1\n",
        "        return okeru_list\n",
        "    \n",
        "    def find(self):\n",
        "        # 自分(1)が置ける場所を\"5\"で示す (相手の石の場所は-1)　\n",
        "        places = self.check()\n",
        "        cm_board = copy.deepcopy( self.board )\n",
        "        for basho in places:\n",
        "            cm_board[basho[1], basho[0]] = 5\n",
        "        print(cm_board)\n",
        "  \n",
        "    def octpass(self, basho): \n",
        "        # 今回置きたい場所を渡したら８方向探索するメソッド\n",
        "        # 今回ひっくり返せる場所が帰ってくる\n",
        "        basho_list = set() #今回ひっくり返せる場所のリスト(setクラスを使う→重複なしで扱える)\n",
        "\n",
        "        if self.board[basho[1], basho[0]] != 0:\n",
        "            #print('既に石が置かれています')\n",
        "            pass\n",
        "        else:\n",
        "            for x in [-1,0,1]:\n",
        "                for y in [-1,0,1]: #8方向を順に見ていく\n",
        "                    tmp = [] #今回の確認する方向でひっくり返そうな場所を一時的に記憶しておくリスト\n",
        "\n",
        "                    if x == 0 and y == 0:\n",
        "                        pass #方向がないときはパスする\n",
        "\n",
        "                    for length in range(1,9): #今回確認する方向にだんだん腕を伸ばしていく\n",
        "                        if 0<=basho[1]+y*length<=7 and 0<=basho[0]+x*length<=7: #腕が盤面に収まるのなら\n",
        "                            check_plc = self.board[ basho[1]+y*length, basho[0]+x*length ]\n",
        "                            if check_plc == 0: #もし確認した場所に何も置いていなければ、飛び石になっちゃうので手を伸ばすのを終了\n",
        "                                break\n",
        "                            elif check_plc == -1: #もし確認した場所が相手プレイヤーの石だった場合その場所を一時記憶しておく\n",
        "                                tmp.append( (basho[0]+x*length, basho[1]+y*length) )\n",
        "                            elif check_plc == 1: #もし確認した場所が自分の石だった場合、ひっくり返せるリストに現在ひっくり返せそうな場所を追加して腕を伸ばすのをやめる\n",
        "                                if len(tmp) > 0: #中身がからでない場合のみ\n",
        "                                    basho_list |= set(tmp)\n",
        "                                break #手を伸ばすのを終了\n",
        "\n",
        "                        else: #もし盤面を飛び出してしまうならpassする\n",
        "                            pass\n",
        "        return list(basho_list)"
      ],
      "execution_count": 7,
      "outputs": []
    },
    {
      "cell_type": "code",
      "metadata": {
        "id": "e-l5gcFFSgpD"
      },
      "source": [
        "# オセロを実行するタスク本体\n",
        "# オセロゲーム自体と、対戦相手(CPU)を持つ\n",
        "\n",
        "# Instance.reset() メソッドで初期化\n",
        "# state_next, reward, done, info = Instance.step( action )\n",
        "# 上記のようにcart poleのように使える\n",
        "# infoは形だけ　中身は相手が打てる手があるかの判断として使ってる \n",
        "\n",
        "# Human-Playerが先手の場合、player_color='B'\n",
        "# Human-Playerが後手の場合、player_color='W'\n",
        "# で設定する\n",
        "\n",
        "class OTHELLO_Task:\n",
        "    def __init__(self, player_color='B', view_board=False):\n",
        "        self.player_color = player_color\n",
        "        self.GAME = OTHELLO(player_color=self.player_color)\n",
        "        self.CPU_Player = Random_Player()\n",
        "        self.view_board = view_board\n",
        "    \n",
        "    def reset(self):\n",
        "        self.GAME = OTHELLO(player_color=self.player_color)\n",
        "        state_next = self.GAME.board\n",
        "        if self.player_color == 'W':\n",
        "            # もし人間が後手だった場合\n",
        "            state_next*=-1\n",
        "            reward, state_next, done, info = self.step_cpu()\n",
        "        return state_next\n",
        "\n",
        "    \n",
        "    def step(self, action):\n",
        "        # step_humanとstep_cpuを両方行い、最終的なState_nextを返す\n",
        "        state_next, reward, done, info = self.step_human(action)\n",
        "        if done or info: #　ゲーム終了 or CPUの置く場所がない なら現在のReward, State_nextを返す\n",
        "            return state_next, reward, done, info\n",
        "        else:\n",
        "            info = True\n",
        "            while info: # 初回のCPUの手番 or 人間側に置ける場所がない時\n",
        "                state_next, reward, done, info = self.step_cpu()\n",
        "            return state_next, reward, done, info\n",
        "            \n",
        "    \n",
        "    def step_human(self, action):\n",
        "        basho = ( action%8, action//8 ) #actionは0-63なので(8,8)の二次元に変換する\n",
        "\n",
        "        if self.view_board:\n",
        "            state = self.GAME.board\n",
        "            print(\"\\n Humans state Input !!!!!!!!!!!!!!!!!\")\n",
        "            plt_img(state=state)\n",
        "            print('Humans Action :', basho)\n",
        "\n",
        "        # 環境からAction_tを受け取って、それに対する報酬(Rewoard_t)と次の盤面(State_t+1)、終了か否か(done), 次の相手の手番を飛ばすか(info)を返す\n",
        "        state_next = self.GAME.put(basho, player='human')\n",
        "        info = False\n",
        "\n",
        "        if len(state_next) ==0:\n",
        "            # 自分が間違えた場所に置いた場合\n",
        "            # print('you missed')\n",
        "            reward = -1\n",
        "            state_next = None\n",
        "            done = True\n",
        "            info = False\n",
        "        else:\n",
        "            reward = 0\n",
        "            if self.GAME.check(player='cpu'):\n",
        "                done = False\n",
        "            else: #相手(CPU)のおける場所がなかった場合\n",
        "                if self.GAME.check(player='human'):\n",
        "                    # 自分に置ける場所があるなら\n",
        "                    info = True #相手番はpass\n",
        "                    done = False\n",
        "                else:\n",
        "                    #自分にも置ける場所がないなら\n",
        "                    done = True\n",
        "                    if sum(sum(self.GAME.board)) > 0: #自分の石の方が多いなら\n",
        "                        reward = 1\n",
        "                    else:\n",
        "                        reward = -1\n",
        "        #print('human_turn')\n",
        "        return state_next, reward, done, info\n",
        "    \n",
        "    def step_cpu(self):\n",
        "        state = self.GAME.board\n",
        "        action = self.CPU_Player.get_action( -1*state )\n",
        "        basho = ( action%8, action//8 ) #actionは0-63なので(8,8)の二次元に変換する\n",
        "\n",
        "        if self.view_board:\n",
        "            print(\"\\n CPUs state Input !!!!!!!!!!!!!!!!!\")\n",
        "            plt_img(state=state)\n",
        "            print('CPUs Action :', basho)\n",
        "\n",
        "        state_next = self.GAME.put(basho, player='cpu')\n",
        "        info = False\n",
        "\n",
        "        if len(state_next) ==0:\n",
        "            # CPUが間違えた場所に置いた場合\n",
        "            print('CPU missed')\n",
        "            reward = 1\n",
        "            state_next = None\n",
        "            done = True\n",
        "            info = False  \n",
        "        else:\n",
        "            reward = 0\n",
        "            if self.GAME.check(player='human'):\n",
        "                done = False\n",
        "            else: #相手(Human)のおける場所がなかった場合\n",
        "                if self.GAME.check(player='cpu'):\n",
        "                    # 自分(CPU)に置ける場所があるなら\n",
        "                    info = True #相手番はpass\n",
        "                    done = False\n",
        "                else:\n",
        "                    #自分にも置ける場所がないなら\n",
        "                    done = True\n",
        "                    if sum(sum(self.GAME.board)) > 0: #Humanの石の方が多いなら\n",
        "                        reward = 1\n",
        "                    else:\n",
        "                        reward = -1\n",
        "        #print('cpu_turn')    \n",
        "        return state_next, reward, done, info"
      ],
      "execution_count": 67,
      "outputs": []
    },
    {
      "cell_type": "markdown",
      "metadata": {
        "id": "g0fqHXGuthsK"
      },
      "source": [
        "# Training Environment"
      ]
    },
    {
      "cell_type": "code",
      "metadata": {
        "id": "KhSaaOvrS_Gj"
      },
      "source": [
        "def plt_img(state):\n",
        "    A = np.flip(state, axis=0)\n",
        "    table = np.stack([A, A, A]).transpose(1,2,0).astype(np.int16)\n",
        "\n",
        "    plt.close()\n",
        "    #plt.imshow((-3*table**2+7*table)*100+100, extent=(0,8,0,8), cmap='bwr')\n",
        "    plt.imshow((table)*-100+100, extent=(0,8,0,8), cmap='bwr')\n",
        "    plt.xticks([0,1,2,3,4,5,6,7,8])\n",
        "    # x軸に補助目盛線を設定\n",
        "    plt.grid(which = \"major\", axis = \"x\", color = \"green\", alpha = 0.8,\n",
        "            linestyle = \"--\", linewidth = 3)\n",
        "\n",
        "    # y軸に目盛線を設定\n",
        "    plt.grid(which = \"major\", axis = \"y\", color = \"green\", alpha = 0.8,\n",
        "            linestyle = \"--\", linewidth = 3)\n",
        "    plt.show()\n",
        "\n",
        "def make_3d(state):\n",
        "    state_my  = (state == 1).astype(np.uint8)\n",
        "    state_opp = (state == -1).astype(np.uint8)\n",
        "    return np.stack( [[state_my, state_opp, state]] )"
      ],
      "execution_count": 61,
      "outputs": []
    },
    {
      "cell_type": "code",
      "metadata": {
        "id": "92Q2VgVVsd0j"
      },
      "source": [
        "class Environment():\n",
        "    def __init__(self):\n",
        "        self.Task  = OTHELLO_Task(view_board=True)\n",
        "        self.Agent = Agent()\n",
        "        #self.Agent = Random_Player()\n",
        "    \n",
        "    def run_one_episode(self, episode):\n",
        "        # 倒れるか、200秒持ち堪え耐えるまでが１エピソード        \n",
        "        t = 0\n",
        "        state = self.Task.reset() # 各episodeの最初にTaskをリセット\n",
        "        state = make_3d(state)    # モデルに合わせて3次元に\n",
        "        reword = 0\n",
        "\n",
        "        while True:\n",
        "            action  = self.Agent.get_action(state, 500)\n",
        "            #state_next, reword, done, info = self.Task.step(action.item()) #Action_tを場面に渡してState_t+1, Reword_tを受け取る\n",
        "            state_next, reword, done, info = self.Task.step(action)\n",
        "            if not done:\n",
        "                state_next = make_3d(state_next)    # モデルに合わせて3次元に\n",
        "            \n",
        "            # 結果の記録とモデルの更新\n",
        "            self.Agent.memorize(state, action, reword, state_next)\n",
        "            self.Agent.update_Network(BATCH_SIZE)\n",
        "\n",
        "            state = state_next\n",
        "            t += 1\n",
        "            print(\"done :\", done)\n",
        "\n",
        "            if done:\n",
        "                print(\"\\n 最終盤面\")\n",
        "                plt_img(state=self.Task.GAME.board)\n",
        "                break\n",
        "        return t\n",
        "    \n",
        "    def train(self):\n",
        "        TIMES = []\n",
        "        times = 0\n",
        "        episode = 0\n",
        "        while True:\n",
        "            times = self.run_one_episode(episode)\n",
        "            print('episode :', episode)\n",
        "            print(times)\n",
        "            print('='*10)\n",
        "            episode += 1\n",
        "            TIMES.append(times)\n",
        "\n",
        "            if ( (len(TIMES) > 10) & (np.mean(TIMES[-10:]) >= 200) ) or (len(TIMES) > MAX_ITER):\n",
        "                break\n",
        "        return TIMES"
      ],
      "execution_count": 32,
      "outputs": []
    },
    {
      "cell_type": "code",
      "metadata": {
        "colab": {
          "base_uri": "https://localhost:8080/",
          "height": 1000
        },
        "id": "PS1M4H4CKPQl",
        "outputId": "c073e3e3-1c21-43f5-fa23-92ad4fb68e3e"
      },
      "source": [
        "%%time\n",
        "GAMMA = 0.99\n",
        "CAPACITY = 10000\n",
        "BATCH_SIZE = 32\n",
        "MAX_ITER = 0\n",
        "\n",
        "AAA = Environment()\n",
        "TTT = AAA.train()\n",
        "\n",
        "X = range(len(TTT))\n",
        "#plt.plot(X, TTT)"
      ],
      "execution_count": 73,
      "outputs": [
        {
          "output_type": "stream",
          "text": [
            "\n",
            " Humans state Input !!!!!!!!!!!!!!!!!\n"
          ],
          "name": "stdout"
        },
        {
          "output_type": "display_data",
          "data": {
            "image/png": "[encoded data removed]",
            "text/plain": [
              "<Figure size 432x288 with 1 Axes>"
            ]
          },
          "metadata": {
            "tags": [],
            "needs_background": "light"
          }
        },
        {
          "output_type": "stream",
          "text": [
            "Humans Action : (5, 3)\n",
            "\n",
            " CPUs state Input !!!!!!!!!!!!!!!!!\n"
          ],
          "name": "stdout"
        },
        {
          "output_type": "display_data",
          "data": {
            "image/png": "[encoded data removed]",
            "text/plain": [
              "<Figure size 432x288 with 1 Axes>"
            ]
          },
          "metadata": {
            "tags": [],
            "needs_background": "light"
          }
        },
        {
          "output_type": "stream",
          "text": [
            "CPUs Action : (3, 2)\n",
            "done : False\n",
            "\n",
            " Humans state Input !!!!!!!!!!!!!!!!!\n"
          ],
          "name": "stdout"
        },
        {
          "output_type": "display_data",
          "data": {
            "image/png": "[encoded data removed]",
            "text/plain": [
              "<Figure size 432x288 with 1 Axes>"
            ]
          },
          "metadata": {
            "tags": [],
            "needs_background": "light"
          }
        },
        {
          "output_type": "stream",
          "text": [
            "Humans Action : (2, 2)\n",
            "\n",
            " CPUs state Input !!!!!!!!!!!!!!!!!\n"
          ],
          "name": "stdout"
        },
        {
          "output_type": "display_data",
          "data": {
            "image/png": "[encoded data removed]",
            "text/plain": [
              "<Figure size 432x288 with 1 Axes>"
            ]
          },
          "metadata": {
            "tags": [],
            "needs_background": "light"
          }
        },
        {
          "output_type": "stream",
          "text": [
            "CPUs Action : (5, 2)\n",
            "done : False\n",
            "\n",
            " Humans state Input !!!!!!!!!!!!!!!!!\n"
          ],
          "name": "stdout"
        },
        {
          "output_type": "display_data",
          "data": {
            "image/png": "[encoded data removed]",
            "text/plain": [
              "<Figure size 432x288 with 1 Axes>"
            ]
          },
          "metadata": {
            "tags": [],
            "needs_background": "light"
          }
        },
        {
          "output_type": "stream",
          "text": [
            "Humans Action : (5, 1)\n",
            "\n",
            " CPUs state Input !!!!!!!!!!!!!!!!!\n"
          ],
          "name": "stdout"
        },
        {
          "output_type": "display_data",
          "data": {
            "image/png": "[encoded data removed]",
            "text/plain": [
              "<Figure size 432x288 with 1 Axes>"
            ]
          },
          "metadata": {
            "tags": [],
            "needs_background": "light"
          }
        },
        {
          "output_type": "stream",
          "text": [
            "CPUs Action : (2, 3)\n",
            "done : False\n",
            "\n",
            " Humans state Input !!!!!!!!!!!!!!!!!\n"
          ],
          "name": "stdout"
        },
        {
          "output_type": "display_data",
          "data": {
            "image/png": "[encoded data removed]",
            "text/plain": [
              "<Figure size 432x288 with 1 Axes>"
            ]
          },
          "metadata": {
            "tags": [],
            "needs_background": "light"
          }
        },
        {
          "output_type": "stream",
          "text": [
            "Humans Action : (6, 2)\n",
            "done : True\n",
            "\n",
            " 最終盤面\n"
          ],
          "name": "stdout"
        },
        {
          "output_type": "stream",
          "text": [
            "/usr/local/lib/python3.7/dist-packages/ipykernel_launcher.py:21: VisibleDeprecationWarning: Creating an ndarray from ragged nested sequences (which is a list-or-tuple of lists-or-tuples-or ndarrays with different lengths or shapes) is deprecated. If you meant to do this, you must specify 'dtype=object' when creating the ndarray\n"
          ],
          "name": "stderr"
        },
        {
          "output_type": "display_data",
          "data": {
            "image/png": "[encoded data removed]",
            "text/plain": [
              "<Figure size 432x288 with 1 Axes>"
            ]
          },
          "metadata": {
            "tags": [],
            "needs_background": "light"
          }
        },
        {
          "output_type": "stream",
          "text": [
            "episode : 0\n",
            "4\n",
            "==========\n",
            "CPU times: user 1.25 s, sys: 32.7 ms, total: 1.29 s\n",
            "Wall time: 1.27 s\n"
          ],
          "name": "stdout"
        }
      ]
    },
    {
      "cell_type": "code",
      "metadata": {
        "colab": {
          "base_uri": "https://localhost:8080/"
        },
        "id": "zO3YEm_kMFOr",
        "outputId": "8129fcee-d4d1-46e0-8598-19f689878b19"
      },
      "source": [
        "State_BATCH = AAA.Agent.Memory.sample(3)[0]"
      ],
      "execution_count": 46,
      "outputs": [
        {
          "output_type": "stream",
          "text": [
            "/usr/local/lib/python3.7/dist-packages/ipykernel_launcher.py:21: VisibleDeprecationWarning: Creating an ndarray from ragged nested sequences (which is a list-or-tuple of lists-or-tuples-or ndarrays with different lengths or shapes) is deprecated. If you meant to do this, you must specify 'dtype=object' when creating the ndarray\n"
          ],
          "name": "stderr"
        }
      ]
    }
  ]
}